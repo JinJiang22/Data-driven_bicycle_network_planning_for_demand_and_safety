{
 "cells": [
  {
   "cell_type": "code",
   "execution_count": 13,
   "metadata": {},
   "outputs": [],
   "source": [
    "import pandas as pd\n",
    "import requests\n",
    "import json\n",
    "import numpy\n",
    "import time\n",
    "from datetime import date\n",
    "#import requests_cache\n",
    "from IPython.core.display import clear_output\n",
    "import numpy as np\n",
    "import matplotlib.pyplot as plt"
   ]
  },
  {
   "cell_type": "code",
   "execution_count": 2,
   "metadata": {},
   "outputs": [
    {
     "data": {
      "text/plain": [
       "200"
      ]
     },
     "execution_count": 2,
     "metadata": {},
     "output_type": "execute_result"
    }
   ],
   "source": [
    "# get auth Token\n",
    "\n",
    "body = {\"email\": \"p____o@gmail.com\"}\n",
    "\n",
    "headers = {\n",
    "    'User-Agent': 'Bird/4.119.0(co.bird.Ride; build:3; iOS 14.3.0) Alamofire/5.2.2',\n",
    "    'Device-Id': 'BC5BDA72-12A2-5DF4-BD11-92ACF8FFC86D', # is a random 16-bit GUID\n",
    "    'Platform': 'ios',\n",
    "    'App-Version': '4.119.0',\n",
    "    'Content-Type': 'application/json'\n",
    "    }\n",
    "\n",
    "POST = 'https://api-auth.prod.birdapp.com/api/v1/auth/email'\n",
    "\n",
    "r = requests.post(url=POST, headers=headers,json=body)\n",
    "\n",
    "r.status_code"
   ]
  },
  {
   "cell_type": "code",
   "execution_count": 3,
   "metadata": {},
   "outputs": [
    {
     "data": {
      "text/plain": [
       "{'validation_required': True}"
      ]
     },
     "execution_count": 3,
     "metadata": {},
     "output_type": "execute_result"
    }
   ],
   "source": [
    "r.json()"
   ]
  },
  {
   "cell_type": "code",
   "execution_count": 4,
   "metadata": {},
   "outputs": [
    {
     "data": {
      "text/plain": [
       "200"
      ]
     },
     "execution_count": 4,
     "metadata": {},
     "output_type": "execute_result"
    }
   ],
   "source": [
    "# get 'access' and 'refresh' codes\n",
    "\n",
    "headers = {\n",
    "    'User-Agent': 'Bird/4.119.0(co.bird.Ride; build:3; iOS 14.3.0) Alamofire/5.2.2',\n",
    "    'Device-Id': 'BC5BDA72-12A2-5DF4-BD11-92ACF8FFC86D', # is a random 16-bit GUID\n",
    "    'Platform': 'ios',\n",
    "    'App-Version': '4.119.0',\n",
    "    'Content-Type': 'application/json'\n",
    "    }\n",
    "\n",
    "tkn = {\"token\": \"DidHSRECQxeCJFhgyW9CS2A\"}\n",
    "\n",
    "POST = \"https://api-auth.prod.birdapp.com/api/v1/auth/magic-link/use\"\n",
    "\n",
    "r = requests.post(url=POST, headers=headers,json=tkn)\n",
    "\n",
    "r.status_code"
   ]
  },
  {
   "cell_type": "code",
   "execution_count": 5,
   "metadata": {},
   "outputs": [],
   "source": [
    "j = r.json()"
   ]
  },
  {
   "cell_type": "markdown",
   "metadata": {},
   "source": [
    "## Refresh Auth Token\n",
    "\n",
    "By default bird tokens expire after one day. They can be easily refreshed without having to get another magic link. Send a POST request to ***https://api-auth.prod.birdapp.com/api/v1/auth/refresh/token*** with the following headers:\n",
    "* User-Agent: Bird/4.119.0(co.bird.Ride; build:3; iOS 14.3.0) Alamofire/5.2.2\n",
    "* Device-Id: 'BC5BDA72-12A2-5DF4-BD11-92ACF8FFC86D'\n",
    "* Platform: ios\n",
    "* App-Version: 4.119.0\n",
    "* Content-Type: application/json\n",
    "* Authorization: Bearer + j[\"refresh\"]"
   ]
  },
  {
   "cell_type": "code",
   "execution_count": 21,
   "metadata": {},
   "outputs": [
    {
     "data": {
      "text/plain": [
       "200"
      ]
     },
     "execution_count": 21,
     "metadata": {},
     "output_type": "execute_result"
    }
   ],
   "source": [
    "# refresh auth token\n",
    "\n",
    "POST = \" https://api-auth.prod.birdapp.com/api/v1/auth/refresh/token\"\n",
    "\n",
    "headers = {\n",
    "    'User-Agent': 'Bird/4.119.0(co.bird.Ride; build:3; iOS 14.3.0) Alamofire/5.2.2',\n",
    "    'Device-Id': '4984dbee-5300-40d6-bbdf-39c94ae4a39e',\n",
    "    'Platform': 'ios',\n",
    "    'App-Version': '4.119.0',\n",
    "    'Content-Type': 'application/json',\n",
    "    'Authorization': 'Bearer ' + j[\"refresh\"]\n",
    "    }\n",
    "\n",
    "r = requests.post(url=POST, headers=headers)\n",
    "r.status_code"
   ]
  },
  {
   "cell_type": "code",
   "execution_count": 15,
   "metadata": {},
   "outputs": [],
   "source": [
    "# location request\n",
    "\n",
    "def make_a_request(lat,lon,rad):\n",
    "    \n",
    "    # set headers\n",
    "    headers = {\n",
    "        'Authorization': 'Bearer '+j['access'],\n",
    "        'User-Agent': 'Bird/4.119.0(co.bird.Ride; build:3; iOS 14.3.0) Alamofire/5.2.2',\n",
    "        'legacyrequest': 'false',\n",
    "        'Device-Id': 'BC5BDA72-12A2-5DF4-BD11-92ACF8FFC86D',\n",
    "        'App-Version': '4.119.0',        \n",
    "        'Location': json.dumps({\"latitude\": lat, \"longitude\": lon,\"altitude\":500,\"accuracy\":100,\"speed\":-1,\"heading\":-1}, sort_keys=True)\n",
    "    }\n",
    "    # set url\n",
    "    URL = 'https://api-bird.prod.birdapp.com/bird/nearby?latitude=' + str(lat) + '&longitude=' + str(lon) + '&radius=' + str(rad)\n",
    "    \n",
    "    # make a GET request!\n",
    "    r = requests.get(url=URL, headers=headers)\n",
    "    \n",
    "    return r"
   ]
  },
  {
   "cell_type": "code",
   "execution_count": 34,
   "metadata": {},
   "outputs": [],
   "source": [
    "# load the list of coordinates for the requests\n",
    "\n",
    "coords = pd.read_csv('./Downloaded_data/bird_data/request_location.csv')\n",
    "coords = coords.drop(['Unnamed: 0'],axis=1)"
   ]
  },
  {
   "cell_type": "code",
   "execution_count": 40,
   "metadata": {},
   "outputs": [],
   "source": [
    "# create a list of dict: each dict contains the coordinates for a request\n",
    "\n",
    "coords_list = []\n",
    "\n",
    "for i in range(len(coords)):\n",
    "    \n",
    "    coord_dict = {'latitude': coords.iloc[i]['latitude'], 'longitude': coords.iloc[i]['longitude']}\n",
    "    \n",
    "    coords_list.append(coord_dict)"
   ]
  },
  {
   "cell_type": "code",
   "execution_count": null,
   "metadata": {},
   "outputs": [
    {
     "name": "stdout",
     "output_type": "stream",
     "text": [
      "Data collection started at:  Wed May 26 14:57:10 2021\n",
      "Data collection will end at:  Thu Jun  3 14:57:10 2021\n"
     ]
    }
   ],
   "source": [
    "#collecting data\n",
    "\n",
    "responses = []\n",
    "\n",
    "start_time = time.time()\n",
    "\n",
    "# set the radius for the requests\n",
    "R = 500\n",
    "\n",
    "# set the duration (in seconds) of data collecting\n",
    "duration = 691200\n",
    "\n",
    "end_time = start_time + duration\n",
    "\n",
    "start_day = '2021-05-24'\n",
    "end_day = '2021-06-03'\n",
    "\n",
    "request_counter = 0\n",
    "\n",
    "print('Data collection started at: ', time.ctime(start_time))\n",
    "\n",
    "print('Data collection will end at: ', time.ctime(end_time))\n",
    "\n",
    "# make the requests\n",
    "\n",
    "while time.time() < end_time:\n",
    "#while request_counter < 1:\n",
    "    \n",
    "    #print('Data collection started at: ', time.ctime(start_time))\n",
    "\n",
    "    #print('Data collection will end at: ', time.ctime(end_time))\n",
    "    \n",
    "    #print('***'*15)\n",
    "    \n",
    "    #print(\"Group of requests number \",request_counter)\n",
    "    \n",
    "    dfs = []\n",
    "    \n",
    "    for i in range(len(coords_list)):\n",
    "        \n",
    "        \n",
    "        \n",
    "        # make the API call\n",
    "        response = make_a_request(coords_list[i]['latitude'],coords_list[i]['longitude'],R)\n",
    "        \n",
    "        # if we get an error, print the response and halt the loop\n",
    "        if response.status_code != 200:\n",
    "            print(response.text)\n",
    "            break\n",
    "        \n",
    "        # create a df with the data of the request\n",
    "        r_json = response.json()\n",
    "        r_json_bike = r_json['birds']\n",
    "        r_df = pd.DataFrame(r_json_bike)\n",
    "        \n",
    "        # add to the df WHEN was made the request\n",
    "        t = time.time()        \n",
    "        r_df['Time'] = t\n",
    "        \n",
    "        # add to the df WHERE was made the request\n",
    "        r_df['Request Latitude'] = coords_list[i]['latitude']\n",
    "        r_df['Request Longitude'] = coords_list[i]['longitude']\n",
    "        \n",
    "        # rearrange the latitude and longitude data\n",
    "        lats = []\n",
    "        lons = []\n",
    "\n",
    "        for k in range(len(r_df)):\n",
    "            temp_df = pd.DataFrame(r_json['birds'][k])\n",
    "            lats.append(temp_df.iloc[0]['location'])\n",
    "            lons.append(temp_df.iloc[1]['location'])\n",
    "    \n",
    "        r_df['latitude'] = lats\n",
    "        r_df['longitude'] = lons\n",
    "        \n",
    "        # delete the 'location' column\n",
    "        r_df=r_df.drop(['location'], axis=1)\n",
    "        \n",
    "        #sort the columns of the df\n",
    "        r_df=r_df[['id','latitude','longitude','code','model','vehicle_class','captive','partner_id','battery_level','estimated_range','area_key','nest_id','bounty_id','Time','Request Latitude','Request Longitude']]\n",
    "        \n",
    "        # append df to a list\n",
    "        dfs.append(r_df)\n",
    "        \n",
    "        # print some output so we can see the status\n",
    "        #print(\"Location of the last request: {}\".format(coord_labels[i]))\n",
    "        #print('Time of the last request: {}'.format(time.ctime(time.time())))\n",
    "        text_file = open(\"Updates.txt\", \"w\")\n",
    "        n = text_file.write('# '+str(i)+' - Time of the last request: ' + str(time.ctime(time.time())))\n",
    "        text_file.close()\n",
    "        \n",
    "        \n",
    "        # append response to a list\n",
    "        responses.append(response)\n",
    "        \n",
    "        #if it's not a cached result, sleep\n",
    "        #if not getattr(response,'from_cache',False):\n",
    "        time.sleep(25)\n",
    "        \n",
    "    # create a single df for each group of requests\n",
    "    df = pd.concat(dfs)\n",
    "    \n",
    "    # export the df as a .csv file\n",
    "    df.to_csv('./Downloaded_data/bird_data/TimeSlot'+str(request_counter)+'_Start'+str(start_day)+'_End'+str(end_day)+'.csv')\n",
    "    \n",
    "    request_counter = request_counter + 1\n",
    "    \n",
    "    #between each group of requests, sleep 50 min \n",
    "    time.sleep(2935)\n",
    "    \n",
    "    \n",
    "    \n",
    "    # clear the output to make things neater\n",
    "    #clear_output(wait = True)"
   ]
  },
  {
   "cell_type": "markdown",
   "metadata": {},
   "source": [
    "## 2021-05-24 small data collection"
   ]
  },
  {
   "cell_type": "code",
   "execution_count": null,
   "metadata": {},
   "outputs": [],
   "source": [
    "# try the API using this 5 coordinates\n",
    "\n",
    "\n",
    "# requests_cache.install_cache()\n",
    "\n",
    "# coordinates of comune di torino (anagrafe)\n",
    "coords_CT = {\"latitude\": 45.0781, \"longitude\": 7.6761 }\n",
    "\n",
    "# coordinates of Torino PN\n",
    "coords_PN = {\"latitude\": 45.05, \"longitude\": 7.683333 }\n",
    "\n",
    "#coordinates of Torino PS\n",
    "coords_PS = {\"latitude\": 45.066667, \"longitude\": 7.666667 }\n",
    "\n",
    "#coordinates of Piazza Vittorio Veneto\n",
    "coords_PVV = {\"latitude\": 45.0650470102, \"longitude\": 7.69518884942 }\n",
    "\n",
    "#coordinates of Torino Lingotto (Train Station)\n",
    "coords_TL = {\"latitude\": 45.066667, \"longitude\": 7.65 }\n",
    "\n",
    "coords_list = [coords_CT,coords_PN,coords_PS,coords_PVV,coords_TL]\n",
    "coord_labels = ['Comune','Porta Nuova','Porta Susa','Piazza Vittorio','Lingotto']"
   ]
  },
  {
   "cell_type": "code",
   "execution_count": 147,
   "metadata": {},
   "outputs": [
    {
     "name": "stdout",
     "output_type": "stream",
     "text": [
      "Number of different e-scooters detected during the day in all areas:  1086\n"
     ]
    }
   ],
   "source": [
    "# create a single dataframe with all the collected data during the day 2021-05-24\n",
    "\n",
    "frames = []\n",
    "\n",
    "for i in range(12):\n",
    "    frames.append(pd.read_csv('./Downloaded_data/bird_data/Group'+str(i)+'_DATE2021-05-24.csv'))\n",
    "    \n",
    "global_frame = pd.concat(frames)\n",
    "\n",
    "\n",
    "print('Number of different e-scooters detected during the day in all areas: ', global_frame['id'].unique().shape[0])"
   ]
  },
  {
   "cell_type": "code",
   "execution_count": null,
   "metadata": {},
   "outputs": [],
   "source": []
  }
 ],
 "metadata": {
  "kernelspec": {
   "display_name": "Python 3",
   "language": "python",
   "name": "python3"
  },
  "language_info": {
   "codemirror_mode": {
    "name": "ipython",
    "version": 3
   },
   "file_extension": ".py",
   "mimetype": "text/x-python",
   "name": "python",
   "nbconvert_exporter": "python",
   "pygments_lexer": "ipython3",
   "version": "3.7.7"
  }
 },
 "nbformat": 4,
 "nbformat_minor": 5
}
