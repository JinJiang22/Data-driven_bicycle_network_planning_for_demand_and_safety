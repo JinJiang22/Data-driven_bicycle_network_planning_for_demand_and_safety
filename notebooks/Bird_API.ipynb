{
 "cells": [
  {
   "cell_type": "code",
   "execution_count": 13,
   "metadata": {},
   "outputs": [],
   "source": [
    "import pandas as pd\n",
    "import requests\n",
    "import json\n",
    "import numpy\n",
    "import time\n",
    "from datetime import date\n",
    "#import requests_cache\n",
    "from IPython.core.display import clear_output\n",
    "import numpy as np\n",
    "import matplotlib.pyplot as plt"
   ]
  },
  {
   "cell_type": "code",
   "execution_count": 2,
   "metadata": {},
   "outputs": [
    {
     "data": {
      "text/plain": [
       "200"
      ]
     },
     "execution_count": 2,
     "metadata": {},
     "output_type": "execute_result"
    }
   ],
   "source": [
    "# get auth Token\n",
    "\n",
    "body = {\"email\": \"p____o@gmail.com\"}\n",
    "\n",
    "headers = {\n",
    "    'User-Agent': 'Bird/4.119.0(co.bird.Ride; build:3; iOS 14.3.0) Alamofire/5.2.2',\n",
    "    'Device-Id': 'BC5BDA72-12A2-5DF4-BD11-92ACF8FFC86D', # is a random 16-bit GUID\n",
    "    'Platform': 'ios',\n",
    "    'App-Version': '4.119.0',\n",
    "    'Content-Type': 'application/json'\n",
    "    }\n",
    "\n",
    "POST = 'https://api-auth.prod.birdapp.com/api/v1/auth/email'\n",
    "\n",
    "r = requests.post(url=POST, headers=headers,json=body)\n",
    "\n",
    "r.status_code"
   ]
  },
  {
   "cell_type": "code",
   "execution_count": 3,
   "metadata": {},
   "outputs": [
    {
     "data": {
      "text/plain": [
       "{'validation_required': True}"
      ]
     },
     "execution_count": 3,
     "metadata": {},
     "output_type": "execute_result"
    }
   ],
   "source": [
    "r.json()"
   ]
  },
  {
   "cell_type": "code",
   "execution_count": 4,
   "metadata": {},
   "outputs": [
    {
     "data": {
      "text/plain": [
       "200"
      ]
     },
     "execution_count": 4,
     "metadata": {},
     "output_type": "execute_result"
    }
   ],
   "source": [
    "# get 'access' and 'refresh' codes\n",
    "\n",
    "headers = {\n",
    "    'User-Agent': 'Bird/4.119.0(co.bird.Ride; build:3; iOS 14.3.0) Alamofire/5.2.2',\n",
    "    'Device-Id': 'BC5BDA72-12A2-5DF4-BD11-92ACF8FFC86D', # is a random 16-bit GUID\n",
    "    'Platform': 'ios',\n",
    "    'App-Version': '4.119.0',\n",
    "    'Content-Type': 'application/json'\n",
    "    }\n",
    "\n",
    "tkn = {\"token\": \"DidHSRECQxeCJFhgyW9CS2A\"}\n",
    "\n",
    "POST = \"https://api-auth.prod.birdapp.com/api/v1/auth/magic-link/use\"\n",
    "\n",
    "r = requests.post(url=POST, headers=headers,json=tkn)\n",
    "\n",
    "r.status_code"
   ]
  },
  {
   "cell_type": "code",
   "execution_count": 5,
   "metadata": {},
   "outputs": [],
   "source": [
    "j = r.json()"
   ]
  },
  {
   "cell_type": "markdown",
   "metadata": {},
   "source": [
    "## Refresh Auth Token\n",
    "\n",
    "By default bird tokens expire after one day. They can be easily refreshed without having to get another magic link. Send a POST request to ***https://api-auth.prod.birdapp.com/api/v1/auth/refresh/token*** with the following headers:\n",
    "* User-Agent: Bird/4.119.0(co.bird.Ride; build:3; iOS 14.3.0) Alamofire/5.2.2\n",
    "* Device-Id: 'BC5BDA72-12A2-5DF4-BD11-92ACF8FFC86D'\n",
    "* Platform: ios\n",
    "* App-Version: 4.119.0\n",
    "* Content-Type: application/json\n",
    "* Authorization: Bearer + j[\"refresh\"]"
   ]
  },
  {
   "cell_type": "code",
   "execution_count": 21,
   "metadata": {},
   "outputs": [
    {
     "data": {
      "text/plain": [
       "200"
      ]
     },
     "execution_count": 21,
     "metadata": {},
     "output_type": "execute_result"
    }
   ],
   "source": [
    "# refresh auth token\n",
    "\n",
    "POST = \" https://api-auth.prod.birdapp.com/api/v1/auth/refresh/token\"\n",
    "\n",
    "headers = {\n",
    "    'User-Agent': 'Bird/4.119.0(co.bird.Ride; build:3; iOS 14.3.0) Alamofire/5.2.2',\n",
    "    'Device-Id': '4984dbee-5300-40d6-bbdf-39c94ae4a39e',\n",
    "    'Platform': 'ios',\n",
    "    'App-Version': '4.119.0',\n",
    "    'Content-Type': 'application/json',\n",
    "    'Authorization': 'Bearer ' + j[\"refresh\"]\n",
    "    }\n",
    "\n",
    "r = requests.post(url=POST, headers=headers)\n",
    "r.status_code"
   ]
  },
  {
   "cell_type": "code",
   "execution_count": 15,
   "metadata": {},
   "outputs": [],
   "source": [
    "# location request\n",
    "\n",
    "def make_a_request(lat,lon,rad):\n",
    "    \n",
    "    # set headers\n",
    "    headers = {\n",
    "        'Authorization': 'Bearer '+j['access'],\n",
    "        'User-Agent': 'Bird/4.119.0(co.bird.Ride; build:3; iOS 14.3.0) Alamofire/5.2.2',\n",
    "        'legacyrequest': 'false',\n",
    "        'Device-Id': 'BC5BDA72-12A2-5DF4-BD11-92ACF8FFC86D',\n",
    "        'App-Version': '4.119.0',        \n",
    "        'Location': json.dumps({\"latitude\": lat, \"longitude\": lon,\"altitude\":500,\"accuracy\":100,\"speed\":-1,\"heading\":-1}, sort_keys=True)\n",
    "    }\n",
    "    # set url\n",
    "    URL = 'https://api-bird.prod.birdapp.com/bird/nearby?latitude=' + str(lat) + '&longitude=' + str(lon) + '&radius=' + str(rad)\n",
    "    \n",
    "    # make a GET request!\n",
    "    r = requests.get(url=URL, headers=headers)\n",
    "    \n",
    "    return r"
   ]
  },
  {
   "cell_type": "code",
   "execution_count": 34,
   "metadata": {},
   "outputs": [],
   "source": [
    "# load the list of coordinates for the requests\n",
    "\n",
    "coords = pd.read_csv('./Downloaded_data/bird_data/request_location.csv')\n",
    "coords = coords.drop(['Unnamed: 0'],axis=1)"
   ]
  },
  {
   "cell_type": "code",
   "execution_count": 40,
   "metadata": {},
   "outputs": [],
   "source": [
    "# create a list of dict: each dict contains the coordinates for a request\n",
    "\n",
    "coords_list = []\n",
    "\n",
    "for i in range(len(coords)):\n",
    "    \n",
    "    coord_dict = {'latitude': coords.iloc[i]['latitude'], 'longitude': coords.iloc[i]['longitude']}\n",
    "    \n",
    "    coords_list.append(coord_dict)"
   ]
  },
  {
   "cell_type": "code",
   "execution_count": null,
   "metadata": {},
   "outputs": [
    {
     "name": "stdout",
     "output_type": "stream",
     "text": [
      "Data collection started at:  Wed May 26 14:57:10 2021\n",
      "Data collection will end at:  Thu Jun  3 14:57:10 2021\n"
     ]
    }
   ],
   "source": [
    "#collecting data\n",
    "\n",
    "responses = []\n",
    "\n",
    "start_time = time.time()\n",
    "\n",
    "# set the radius for the requests\n",
    "R = 500\n",
    "\n",
    "# set the duration (in seconds) of data collecting\n",
    "duration = 691200\n",
    "\n",
    "end_time = start_time + duration\n",
    "\n",
    "start_day = '2021-05-24'\n",
    "end_day = '2021-06-03'\n",
    "\n",
    "request_counter = 0\n",
    "\n",
    "print('Data collection started at: ', time.ctime(start_time))\n",
    "\n",
    "print('Data collection will end at: ', time.ctime(end_time))\n",
    "\n",
    "# make the requests\n",
    "\n",
    "while time.time() < end_time:\n",
    "#while request_counter < 1:\n",
    "    \n",
    "    #print('Data collection started at: ', time.ctime(start_time))\n",
    "\n",
    "    #print('Data collection will end at: ', time.ctime(end_time))\n",
    "    \n",
    "    #print('***'*15)\n",
    "    \n",
    "    #print(\"Group of requests number \",request_counter)\n",
    "    \n",
    "    dfs = []\n",
    "    \n",
    "    for i in range(len(coords_list)):\n",
    "        \n",
    "        \n",
    "        \n",
    "        # make the API call\n",
    "        response = make_a_request(coords_list[i]['latitude'],coords_list[i]['longitude'],R)\n",
    "        \n",
    "        # if we get an error, print the response and halt the loop\n",
    "        if response.status_code != 200:\n",
    "            print(response.text)\n",
    "            break\n",
    "        \n",
    "        # create a df with the data of the request\n",
    "        r_json = response.json()\n",
    "        r_json_bike = r_json['birds']\n",
    "        r_df = pd.DataFrame(r_json_bike)\n",
    "        \n",
    "        # add to the df WHEN was made the request\n",
    "        t = time.time()        \n",
    "        r_df['Time'] = t\n",
    "        \n",
    "        # add to the df WHERE was made the request\n",
    "        r_df['Request Latitude'] = coords_list[i]['latitude']\n",
    "        r_df['Request Longitude'] = coords_list[i]['longitude']\n",
    "        \n",
    "        # rearrange the latitude and longitude data\n",
    "        lats = []\n",
    "        lons = []\n",
    "\n",
    "        for k in range(len(r_df)):\n",
    "            temp_df = pd.DataFrame(r_json['birds'][k])\n",
    "            lats.append(temp_df.iloc[0]['location'])\n",
    "            lons.append(temp_df.iloc[1]['location'])\n",
    "    \n",
    "        r_df['latitude'] = lats\n",
    "        r_df['longitude'] = lons\n",
    "        \n",
    "        # delete the 'location' column\n",
    "        r_df=r_df.drop(['location'], axis=1)\n",
    "        \n",
    "        #sort the columns of the df\n",
    "        r_df=r_df[['id','latitude','longitude','code','model','vehicle_class','captive','partner_id','battery_level','estimated_range','area_key','nest_id','bounty_id','Time','Request Latitude','Request Longitude']]\n",
    "        \n",
    "        # append df to a list\n",
    "        dfs.append(r_df)\n",
    "        \n",
    "        # print some output so we can see the status\n",
    "        #print(\"Location of the last request: {}\".format(coord_labels[i]))\n",
    "        #print('Time of the last request: {}'.format(time.ctime(time.time())))\n",
    "        text_file = open(\"Updates.txt\", \"w\")\n",
    "        n = text_file.write('# '+str(i)+' - Time of the last request: ' + str(time.ctime(time.time())))\n",
    "        text_file.close()\n",
    "        \n",
    "        \n",
    "        # append response to a list\n",
    "        responses.append(response)\n",
    "        \n",
    "        #if it's not a cached result, sleep\n",
    "        #if not getattr(response,'from_cache',False):\n",
    "        time.sleep(25)\n",
    "        \n",
    "    # create a single df for each group of requests\n",
    "    df = pd.concat(dfs)\n",
    "    \n",
    "    # export the df as a .csv file\n",
    "    df.to_csv('./Downloaded_data/bird_data/TimeSlot'+str(request_counter)+'_Start'+str(start_day)+'_End'+str(end_day)+'.csv')\n",
    "    \n",
    "    request_counter = request_counter + 1\n",
    "    \n",
    "    #between each group of requests, sleep 50 min \n",
    "    time.sleep(2935)\n",
    "    \n",
    "    \n",
    "    \n",
    "    # clear the output to make things neater\n",
    "    #clear_output(wait = True)"
   ]
  },
  {
   "cell_type": "markdown",
   "metadata": {},
   "source": [
    "## 2021-05-24 small data collection"
   ]
  },
  {
   "cell_type": "code",
   "execution_count": null,
   "metadata": {},
   "outputs": [],
   "source": [
    "# try the API using this 5 coordinates\n",
    "\n",
    "\n",
    "# requests_cache.install_cache()\n",
    "\n",
    "# coordinates of comune di torino (anagrafe)\n",
    "coords_CT = {\"latitude\": 45.0781, \"longitude\": 7.6761 }\n",
    "\n",
    "# coordinates of Torino PN\n",
    "coords_PN = {\"latitude\": 45.05, \"longitude\": 7.683333 }\n",
    "\n",
    "#coordinates of Torino PS\n",
    "coords_PS = {\"latitude\": 45.066667, \"longitude\": 7.666667 }\n",
    "\n",
    "#coordinates of Piazza Vittorio Veneto\n",
    "coords_PVV = {\"latitude\": 45.0650470102, \"longitude\": 7.69518884942 }\n",
    "\n",
    "#coordinates of Torino Lingotto (Train Station)\n",
    "coords_TL = {\"latitude\": 45.066667, \"longitude\": 7.65 }\n",
    "\n",
    "coords_list = [coords_CT,coords_PN,coords_PS,coords_PVV,coords_TL]\n",
    "coord_labels = ['Comune','Porta Nuova','Porta Susa','Piazza Vittorio','Lingotto']"
   ]
  },
  {
   "cell_type": "code",
   "execution_count": 147,
   "metadata": {},
   "outputs": [
    {
     "name": "stdout",
     "output_type": "stream",
     "text": [
      "Number of different e-scooters detected during the day in all areas:  1086\n"
     ]
    }
   ],
   "source": [
    "# create a single dataframe with all the collected data during the day 2021-05-24\n",
    "\n",
    "frames = []\n",
    "\n",
    "for i in range(12):\n",
    "    frames.append(pd.read_csv('./Downloaded_data/bird_data/Group'+str(i)+'_DATE2021-05-24.csv'))\n",
    "    \n",
    "global_frame = pd.concat(frames)\n",
    "\n",
    "\n",
    "print('Number of different e-scooters detected during the day in all areas: ', global_frame['id'].unique().shape[0])"
   ]
  },
  {
   "cell_type": "code",
   "execution_count": 143,
   "metadata": {},
   "outputs": [
    {
     "name": "stdout",
     "output_type": "stream",
     "text": [
      "******************************************************************************************\n",
      "******************************************************************************************\n",
      "[[(243, 'id'), (502, 'id'), (1228, 'id')], [(243, 'id'), (506, 'id'), (1226, 'id')], [(246, 'id'), (501, 'id'), (1218, 'id')], [(504, 'id'), (1215, 'id')], [(242, 'id'), (504, 'id'), (1215, 'id')], [(234, 'id'), (508, 'id'), (1216, 'id')], [(237, 'id'), (507, 'id'), (1212, 'id')], [(231, 'id'), (507, 'id'), (1212, 'id')], [(227, 'id'), (501, 'id'), (1208, 'id')], [(231, 'id'), (501, 'id'), (1202, 'id')], [(229, 'id'), (502, 'id'), (1206, 'id')], [(243, 'id'), (503, 'id'), (1207, 'id')]]\n",
      "******************************************************************************************\n",
      "******************************************************************************************\n",
      "[[(248, 'id'), (501, 'id'), (1230, 'id')], [(240, 'id'), (508, 'id'), (1224, 'id')], [(245, 'id'), (503, 'id'), (1219, 'id')], [(502, 'id'), (1216, 'id')], [(241, 'id'), (505, 'id'), (1216, 'id')], [(240, 'id'), (504, 'id'), (1213, 'id')], [(240, 'id'), (502, 'id'), (1216, 'id')], [(234, 'id'), (503, 'id'), (1209, 'id')], [(233, 'id'), (508, 'id'), (1202, 'id')], [(230, 'id'), (502, 'id'), (1206, 'id')], [(228, 'id'), (507, 'id'), (1205, 'id')], [(242, 'id'), (504, 'id'), (1211, 'id')]]\n",
      "******************************************************************************************\n",
      "******************************************************************************************\n",
      "[[(249, 'id'), (617, 'id'), (1124, 'id')], [(617, 'id'), (1122, 'id')], [(613, 'id'), (1120, 'id')], [(612, 'id'), (1119, 'id')], [(249, 'id'), (613, 'id'), (1119, 'id')], [(249, 'id'), (615, 'id'), (1114, 'id')], [(246, 'id'), (613, 'id'), (1116, 'id')], [(238, 'id'), (612, 'id'), (1113, 'id')], [(234, 'id'), (610, 'id'), (1112, 'id')], [(234, 'id'), (609, 'id'), (1111, 'id')], [(234, 'id'), (608, 'id'), (1113, 'id')], [(246, 'id'), (609, 'id'), (1112, 'id')]]\n",
      "******************************************************************************************\n",
      "[[(509, 'id'), (1221, 'id')], [(509, 'id'), (1218, 'id')], [(508, 'id'), (1212, 'id')], [(509, 'id'), (1210, 'id')], [(248, 'id'), (509, 'id'), (1211, 'id')], [(248, 'id'), (509, 'id'), (1207, 'id')], [(247, 'id'), (509, 'id'), (1203, 'id')], [(240, 'id'), (509, 'id'), (1202, 'id')], [(236, 'id'), (509, 'id'), (1199, 'id')], [(232, 'id'), (509, 'id'), (1198, 'id')], [(233, 'id'), (509, 'id'), (1200, 'id')], [(248, 'id'), (508, 'id'), (1200, 'id')]]\n",
      "******************************************************************************************\n",
      "******************************************************************************************\n",
      "[[(512, 'id'), (1202, 'id')], [(513, 'id'), (1198, 'id')], [(515, 'id'), (1189, 'id')], [(514, 'id'), (1189, 'id')], [(512, 'id'), (1190, 'id')], [(512, 'id'), (1186, 'id')], [(512, 'id'), (1183, 'id')], [(513, 'id'), (1181, 'id')], [(245, 'id'), (514, 'id'), (1179, 'id')], [(244, 'id'), (514, 'id'), (1178, 'id')], [(243, 'id'), (512, 'id'), (1180, 'id')], [(512, 'id'), (1183, 'id')]]\n",
      "******************************************************************************************\n",
      "******************************************************************************************\n",
      "******************************************************************************************\n",
      "[[(517, 'id')], [(249, 'id'), (519, 'id')], [(519, 'id')], [(519, 'id')], [(519, 'id')], [(247, 'id'), (520, 'id')], [(248, 'id'), (519, 'id')], [(241, 'id'), (519, 'id')], [(235, 'id'), (519, 'id')], [(233, 'id'), (518, 'id')], [(232, 'id'), (517, 'id')], [(239, 'id'), (518, 'id')]]\n",
      "******************************************************************************************\n",
      "[[(519, 'id')], [(521, 'id')], [(521, 'id')], [(521, 'id')], [(521, 'id')], [(524, 'id')], [(522, 'id')], [(243, 'id'), (522, 'id')], [(240, 'id'), (522, 'id')], [(236, 'id'), (522, 'id')], [(237, 'id'), (521, 'id')], [(249, 'id'), (521, 'id')]]\n",
      "******************************************************************************************\n",
      "******************************************************************************************\n",
      "[[(524, 'id'), (1137, 'id')], [(527, 'id'), (1137, 'id')], [(529, 'id'), (1132, 'id')], [(527, 'id'), (1131, 'id')], [(527, 'id'), (1133, 'id')], [(532, 'id'), (1132, 'id')], [(531, 'id'), (1129, 'id')], [(531, 'id'), (1128, 'id')], [(532, 'id'), (1128, 'id')], [(532, 'id'), (1125, 'id')], [(248, 'id'), (530, 'id'), (1126, 'id')], [(528, 'id'), (1126, 'id')]]\n",
      "******************************************************************************************\n",
      "******************************************************************************************\n",
      "[[(535, 'id'), (1127, 'id')], [(534, 'id'), (1127, 'id')], [(535, 'id'), (1125, 'id')], [(536, 'id'), (1125, 'id')], [(535, 'id'), (1124, 'id')], [(536, 'id'), (1121, 'id')], [(534, 'id'), (1121, 'id')], [(538, 'id'), (1119, 'id')], [(536, 'id'), (1119, 'id')], [(537, 'id'), (1118, 'id')], [(249, 'id'), (532, 'id'), (1121, 'id')], [(533, 'id'), (1117, 'id')]]\n",
      "******************************************************************************************\n",
      "******************************************************************************************\n",
      "[[(588, 'id')], [(584, 'id')], [(579, 'id')], [(576, 'id')], [(578, 'id')], [(582, 'id')], [(585, 'id')], [(585, 'id')], [(498, 'id'), (585, 'id')], [(578, 'id')], [(577, 'id')], [(580, 'id')]]\n",
      "******************************************************************************************\n",
      "******************************************************************************************\n",
      "[[(596, 'id')], [(586, 'id')], [(584, 'id')], [(589, 'id')], [(582, 'id')], [(592, 'id')], [(592, 'id')], [(592, 'id')], [(496, 'id'), (587, 'id')], [(495, 'id'), (585, 'id')], [(584, 'id')], [(588, 'id')]]\n",
      "******************************************************************************************\n",
      "[[(599, 'id')], [(592, 'id')], [(587, 'id')], [(582, 'id')], [(588, 'id')], [(589, 'id')], [(496, 'id'), (595, 'id')], [], [], [], [], []]\n",
      "******************************************************************************************\n",
      "******************************************************************************************\n",
      "[[(612, 'id')], [(614, 'id')], [(609, 'id')], [(609, 'id')], [(496, 'id'), (610, 'id')], [(495, 'id'), (613, 'id')], [(487, 'id'), (614, 'id')], [(489, 'id'), (611, 'id')], [(485, 'id'), (609, 'id')], [(485, 'id'), (608, 'id')], [(497, 'id'), (603, 'id')], [(606, 'id')]]\n",
      "******************************************************************************************\n",
      "[[(613, 'id')], [(615, 'id')], [(607, 'id')], [(608, 'id')], [(498, 'id'), (607, 'id')], [(498, 'id'), (609, 'id')], [(491, 'id'), (610, 'id')], [(492, 'id'), (607, 'id')], [(487, 'id'), (605, 'id')], [(488, 'id'), (605, 'id')], [(498, 'id'), (602, 'id')], [(499, 'id'), (607, 'id')]]\n",
      "******************************************************************************************\n",
      "******************************************************************************************\n",
      "[[(615, 'id'), (1123, 'id')], [(611, 'id'), (1123, 'id')], [(610, 'id'), (1119, 'id')], [(605, 'id'), (1117, 'id')], [(612, 'id'), (1118, 'id')], [(610, 'id'), (1116, 'id')], [(249, 'id'), (611, 'id'), (1113, 'id')], [(245, 'id'), (608, 'id'), (1109, 'id')], [(239, 'id'), (603, 'id'), (1110, 'id')], [(237, 'id'), (604, 'id'), (1110, 'id')], [(236, 'id'), (604, 'id'), (1111, 'id')], [(604, 'id'), (1110, 'id')]]\n",
      "******************************************************************************************\n",
      "******************************************************************************************\n",
      "[[(618, 'id')], [(616, 'id')], [(611, 'id')], [(607, 'id')], [(497, 'id'), (609, 'id')], [(496, 'id'), (612, 'id')], [(489, 'id'), (612, 'id')], [(491, 'id'), (609, 'id')], [(486, 'id'), (607, 'id')], [(487, 'id'), (607, 'id')], [(495, 'id'), (607, 'id')], [(608, 'id')]]\n",
      "******************************************************************************************\n",
      "******************************************************************************************\n",
      "[[(626, 'id')], [(623, 'id')], [(618, 'id')], [(615, 'id')], [(495, 'id'), (618, 'id')], [(494, 'id'), (620, 'id')], [(490, 'id'), (619, 'id')], [(495, 'id'), (616, 'id')], [(489, 'id'), (614, 'id')], [(489, 'id'), (614, 'id'), (998, 'id')], [(496, 'id'), (614, 'id'), (998, 'id')], [(614, 'id')]]\n"
     ]
    },
    {
     "name": "stdout",
     "output_type": "stream",
     "text": [
      "******************************************************************************************\n",
      "******************************************************************************************\n",
      "[[(655, 'id'), (970, 'id')], [(651, 'id'), (973, 'id')], [(648, 'id'), (969, 'id')], [(646, 'id'), (971, 'id')], [(648, 'id'), (963, 'id')], [(651, 'id'), (962, 'id')], [(647, 'id'), (958, 'id')], [(248, 'id'), (647, 'id'), (955, 'id')], [(243, 'id'), (642, 'id'), (952, 'id')], [(239, 'id'), (640, 'id'), (948, 'id')], [(241, 'id'), (639, 'id'), (949, 'id')], [(645, 'id'), (961, 'id')]]\n",
      "******************************************************************************************\n",
      "******************************************************************************************\n",
      "[[(696, 'id'), (947, 'id')], [(690, 'id'), (947, 'id')], [(679, 'id'), (945, 'id')], [(684, 'id'), (947, 'id')], [(684, 'id'), (942, 'id')], [(499, 'id'), (686, 'id'), (941, 'id')], [(493, 'id'), (681, 'id'), (937, 'id')], [(493, 'id'), (680, 'id'), (935, 'id')], [(488, 'id'), (678, 'id'), (931, 'id')], [(486, 'id'), (680, 'id'), (927, 'id')], [(667, 'id'), (930, 'id')], [(672, 'id'), (942, 'id')]]\n",
      "******************************************************************************************\n",
      "[[(705, 'id'), (1058, 'id')], [(237, 'id'), (660, 'id'), (962, 'id')], [(240, 'id'), (653, 'id'), (959, 'id')], [(238, 'id'), (655, 'id'), (958, 'id')], [(233, 'id'), (657, 'id'), (953, 'id')], [(231, 'id'), (659, 'id'), (952, 'id')], [(231, 'id'), (654, 'id'), (950, 'id')], [], [], [], [], []]\n",
      "******************************************************************************************\n",
      "******************************************************************************************\n",
      "[[(789, 'id')], [(788, 'id')], [(788, 'id')], [(788, 'id')], [(788, 'id')], [(786, 'id')], [(786, 'id')], [(785, 'id')], [(788, 'id')], [(499, 'id'), (786, 'id')], [(784, 'id')], [(786, 'id')]]\n",
      "******************************************************************************************\n",
      "[[(811, 'id')], [(810, 'id')], [(810, 'id')], [(811, 'id')], [(244, 'id'), (813, 'id')], [(245, 'id'), (813, 'id')], [(238, 'id'), (812, 'id')], [(239, 'id'), (812, 'id')], [(237, 'id'), (814, 'id')], [(235, 'id'), (811, 'id')], [(235, 'id'), (808, 'id')], [(247, 'id'), (821, 'id')]]\n",
      "******************************************************************************************\n",
      "[[(814, 'id')], [(813, 'id')], [(812, 'id')], [(499, 'id'), (813, 'id')], [(493, 'id'), (814, 'id')], [(492, 'id'), (815, 'id')], [(486, 'id'), (813, 'id')], [(488, 'id'), (814, 'id')], [], [], [], []]\n",
      "******************************************************************************************\n",
      "******************************************************************************************\n",
      "[[(828, 'id')], [(828, 'id')], [(827, 'id')], [(826, 'id')], [(828, 'id')], [(829, 'id')], [(827, 'id')], [(247, 'id'), (829, 'id')], [(242, 'id'), (832, 'id')], [(240, 'id'), (828, 'id')], [(239, 'id'), (825, 'id')], [(837, 'id')]]\n",
      "******************************************************************************************\n",
      "[[(861, 'id')], [(859, 'id')], [(858, 'id')], [(857, 'id')], [(859, 'id')], [(858, 'id')], [(854, 'id')], [(856, 'id')], [(248, 'id'), (856, 'id')], [(246, 'id'), (854, 'id')], [(245, 'id'), (852, 'id')], []]\n",
      "******************************************************************************************\n",
      "******************************************************************************************\n",
      "[[(900, 'id')], [(897, 'id')], [(895, 'id')], [(895, 'id')], [(896, 'id')], [(896, 'id')], [(895, 'id')], [(244, 'id'), (895, 'id')], [(241, 'id'), (893, 'id')], [(241, 'id'), (892, 'id')], [(240, 'id'), (891, 'id')], [(903, 'id')]]\n",
      "******************************************************************************************\n",
      "******************************************************************************************\n",
      "******************************************************************************************\n",
      "[[(927, 'id')], [(923, 'id')], [(749, 'id'), (924, 'id')], [(924, 'id')], [(494, 'id'), (747, 'id'), (922, 'id')], [(493, 'id'), (747, 'id'), (921, 'id')], [(488, 'id'), (739, 'id'), (920, 'id')], [(490, 'id'), (733, 'id'), (920, 'id')], [(484, 'id'), (726, 'id'), (917, 'id')], [(484, 'id'), (730, 'id'), (913, 'id')], [(494, 'id'), (727, 'id'), (913, 'id')], [(496, 'id'), (738, 'id'), (926, 'id')]]\n",
      "******************************************************************************************\n",
      "[[(1015, 'id')], [(1015, 'id')], [(1014, 'id')], [(1014, 'id')], [(1014, 'id')], [(1078, 'id')], [(1078, 'id')], [(1076, 'id')], [(1076, 'id')], [(1075, 'id')], [(1078, 'id')], [(1074, 'id')]]\n",
      "******************************************************************************************\n",
      "******************************************************************************************\n",
      "[[(1017, 'id')], [(1017, 'id')], [(1016, 'id')], [(1016, 'id')], [(1016, 'id')], [(1015, 'id')], [(1016, 'id')], [(1016, 'id')], [(1016, 'id')], [(745, 'id'), (1016, 'id')], [(1016, 'id')], [(1016, 'id')]]\n",
      "******************************************************************************************\n",
      "[[(1035, 'id')], [(1034, 'id')], [(1034, 'id')], [(1033, 'id')], [(1033, 'id')], [(1032, 'id')], [(745, 'id'), (1032, 'id')], [(740, 'id'), (1032, 'id')], [(734, 'id'), (1033, 'id')], [(735, 'id'), (1033, 'id')], [(731, 'id'), (1033, 'id')], [(736, 'id'), (1033, 'id')]]\n",
      "******************************************************************************************\n",
      "[[(1036, 'id')], [(1035, 'id')], [(1033, 'id')], [(1032, 'id')], [(1032, 'id')], [(1031, 'id')], [(744, 'id'), (1033, 'id')], [(738, 'id'), (1031, 'id')], [(736, 'id'), (1032, 'id')], [(736, 'id'), (1032, 'id')], [(732, 'id'), (1034, 'id')], [(737, 'id'), (1032, 'id')]]\n",
      "******************************************************************************************\n",
      "[[(1046, 'id')], [(744, 'id'), (1049, 'id')], [(742, 'id'), (1046, 'id')], [(738, 'id'), (1046, 'id')], [(733, 'id'), (1045, 'id')], [(734, 'id'), (1043, 'id')], [(726, 'id'), (1044, 'id')], [(727, 'id'), (1040, 'id')], [(714, 'id'), (1042, 'id')], [(718, 'id'), (1041, 'id')], [(712, 'id'), (1043, 'id')], [(717, 'id'), (1042, 'id')]]\n",
      "******************************************************************************************\n",
      "[[(1052, 'id')], [(701, 'id'), (1061, 'id')], [(693, 'id'), (1058, 'id')], [(701, 'id'), (1058, 'id')], [(700, 'id'), (1055, 'id')], [(695, 'id'), (1054, 'id')], [(690, 'id'), (1053, 'id')], [(689, 'id'), (1051, 'id')], [(686, 'id'), (1052, 'id')], [(683, 'id'), (1052, 'id')], [(683, 'id'), (1054, 'id')], [(684, 'id'), (1052, 'id')]]\n",
      "******************************************************************************************\n",
      "[[(1108, 'id')], [(1107, 'id')], [(1104, 'id')], [(1104, 'id')], [(1105, 'id')], [(1102, 'id')], [(748, 'id'), (1100, 'id')], [(741, 'id'), (1098, 'id')], [(739, 'id'), (1098, 'id')], [(738, 'id'), (1097, 'id')], [(736, 'id'), (1099, 'id')], [(742, 'id'), (1097, 'id')]]\n",
      "******************************************************************************************\n",
      "******************************************************************************************\n",
      "[[(1156, 'id')], [(1153, 'id')], [(1151, 'id')], [(1149, 'id')], [(1149, 'id')], [(1145, 'id')], [(1145, 'id')], [(1144, 'id')], [(249, 'id'), (1143, 'id')], [(248, 'id'), (747, 'id'), (1143, 'id')], [(246, 'id'), (744, 'id'), (1144, 'id')], [(1145, 'id')]]\n",
      "******************************************************************************************\n",
      "******************************************************************************************\n",
      "******************************************************************************************\n",
      "******************************************************************************************\n",
      "[[], [(524, 'id'), (1157, 'id')], [(524, 'id'), (1153, 'id')], [(524, 'id'), (1154, 'id')], [(524, 'id'), (1162, 'id')], [(246, 'id'), (527, 'id'), (1161, 'id')], [(526, 'id'), (1149, 'id')], [(242, 'id'), (526, 'id'), (1155, 'id')], [(238, 'id'), (527, 'id'), (1145, 'id')], [(238, 'id'), (527, 'id'), (1142, 'id')], [(231, 'id'), (525, 'id'), (1156, 'id')], [(525, 'id'), (1141, 'id')]]\n",
      "******************************************************************************************\n",
      "******************************************************************************************\n",
      "[[], [(728, 'id'), (936, 'id')], [(723, 'id'), (933, 'id')], [(723, 'id'), (936, 'id')], [(726, 'id'), (929, 'id')], [(722, 'id'), (930, 'id')], [(723, 'id'), (926, 'id')], [(711, 'id'), (927, 'id')], [(707, 'id'), (924, 'id')], [(249, 'id'), (706, 'id'), (920, 'id')], [(247, 'id'), (702, 'id'), (920, 'id')], [(710, 'id'), (933, 'id')]]\n"
     ]
    },
    {
     "name": "stdout",
     "output_type": "stream",
     "text": [
      "******************************************************************************************\n",
      "******************************************************************************************\n",
      "[[], [], [], [], [], [(748, 'id'), (911, 'id')], [(734, 'id'), (917, 'id')], [(729, 'id'), (918, 'id')], [(723, 'id'), (915, 'id')], [(247, 'id'), (723, 'id'), (911, 'id')], [(722, 'id'), (911, 'id')], [(727, 'id'), (925, 'id')]]\n",
      "******************************************************************************************\n",
      "[[], [], [], [], [], [], [(523, 'id')], [(523, 'id')], [(247, 'id'), (523, 'id')], [(243, 'id'), (523, 'id')], [(244, 'id'), (522, 'id')], []]\n",
      "******************************************************************************************\n",
      "[[], [], [], [], [], [], [], [(246, 'id'), (510, 'id'), (1194, 'id')], [(244, 'id'), (510, 'id'), (1189, 'id')], [(242, 'id'), (510, 'id'), (1186, 'id')], [(238, 'id'), (510, 'id'), (1192, 'id')], [(510, 'id'), (1193, 'id')]]\n",
      "******************************************************************************************\n",
      "[[], [], [], [], [], [], [], [(249, 'id'), (527, 'id'), (1145, 'id')], [(246, 'id'), (525, 'id'), (1144, 'id')], [(245, 'id'), (526, 'id'), (1134, 'id')], [(242, 'id'), (526, 'id'), (1138, 'id')], [(524, 'id'), (1140, 'id')]]\n"
     ]
    }
   ],
   "source": [
    "\"\"\"\n",
    "This is a test to verify that the IDs of the e-scooters, don't change if someone uses the e-scooter.\n",
    "The following rows of code identifies all the e-scooters's ID that change position in the df's index,\n",
    "Then, I picked some of them and I verified that the ID of the e-scooter doesn\n",
    "\n",
    "\"\"\"\n",
    "\n",
    "un_id = global_frame['id'].unique()\n",
    "\n",
    "for idx in un_id:\n",
    "    \n",
    "    found = []\n",
    "    pr = False\n",
    "    for k in range(len(frames)):\n",
    "        \n",
    "        found.append(getIndexes(frames[k], idx))\n",
    "        \n",
    "        if k>0:\n",
    "            if len(found[k]) > 0:\n",
    "                if len(found[k-1]) > 0:\n",
    "                    if np.abs(found[k-1][0][0]-found[k][0][0])>40:\n",
    "                        pr = True\n",
    "                        print('******'*15)\n",
    "    if pr:\n",
    "        print(found)\n",
    "    "
   ]
  },
  {
   "cell_type": "code",
   "execution_count": 144,
   "metadata": {
    "collapsed": true
   },
   "outputs": [
    {
     "data": {
      "text/plain": [
       "Unnamed: 0                                           205\n",
       "id                  d30db272-918c-46af-bd77-4497847e5490\n",
       "latitude                                       45.070633\n",
       "longitude                                       7.656248\n",
       "Request Location                              Porta Susa\n",
       "code                                               F9H••\n",
       "model                                                 rf\n",
       "vehicle_class                                    scooter\n",
       "captive                                            False\n",
       "partner_id          5d6c37aa-9966-4532-958a-326cd62932df\n",
       "battery_level                                         89\n",
       "estimated_range                                    20358\n",
       "area_key                B7B84C04C63BD5ED07794DFF7450725D\n",
       "nest_id             784e6a6e-c617-4c69-a854-01d969f3caa6\n",
       "bounty_id                                            NaN\n",
       "Time                                   1621853636.774098\n",
       "Name: 705, dtype: object"
      ]
     },
     "execution_count": 144,
     "metadata": {},
     "output_type": "execute_result"
    }
   ],
   "source": [
    "frames[0].iloc[705]"
   ]
  },
  {
   "cell_type": "code",
   "execution_count": 145,
   "metadata": {
    "collapsed": true
   },
   "outputs": [
    {
     "data": {
      "text/plain": [
       "Unnamed: 0                                           237\n",
       "id                  d30db272-918c-46af-bd77-4497847e5490\n",
       "latitude                                        45.06554\n",
       "longitude                                       7.677283\n",
       "Request Location                                  Comune\n",
       "code                                               F9H••\n",
       "model                                                 rf\n",
       "vehicle_class                                    scooter\n",
       "captive                                            False\n",
       "partner_id          5d6c37aa-9966-4532-958a-326cd62932df\n",
       "battery_level                                         74\n",
       "estimated_range                                    16965\n",
       "area_key                B7B84C04C63BD5ED07794DFF7450725D\n",
       "nest_id             928377cb-1d1a-46f5-b1fe-74fd923b5d0d\n",
       "bounty_id                                            NaN\n",
       "Time                                   1621861204.503018\n",
       "Name: 237, dtype: object"
      ]
     },
     "execution_count": 145,
     "metadata": {},
     "output_type": "execute_result"
    }
   ],
   "source": [
    "frames[1].iloc[237]"
   ]
  },
  {
   "cell_type": "code",
   "execution_count": 87,
   "metadata": {},
   "outputs": [],
   "source": [
    "# This function will return a list of\n",
    "# positions where element exists\n",
    "# in the dataframe.\n",
    "def getIndexes(dfObj, value):\n",
    "      \n",
    "    # Empty list\n",
    "    listOfPos = []\n",
    "      \n",
    "    # isin() method will return a dataframe with \n",
    "    # boolean values, True at the positions    \n",
    "    # where element exists\n",
    "    result = dfObj.isin([value])\n",
    "      \n",
    "    # any() method will return \n",
    "    # a boolean series\n",
    "    seriesObj = result.any()\n",
    "  \n",
    "    # Get list of column names where \n",
    "    # element exists\n",
    "    columnNames = list(seriesObj[seriesObj == True].index)\n",
    "     \n",
    "    # Iterate over the list of columns and\n",
    "    # extract the row index where element exists\n",
    "    for col in columnNames:\n",
    "        rows = list(result[col][result[col] == True].index)\n",
    "  \n",
    "        for row in rows:\n",
    "            listOfPos.append((row, col))\n",
    "              \n",
    "    # This list contains a list tuples with \n",
    "    # the index of element in the dataframe\n",
    "    return listOfPos"
   ]
  },
  {
   "cell_type": "code",
   "execution_count": null,
   "metadata": {},
   "outputs": [],
   "source": []
  }
 ],
 "metadata": {
  "kernelspec": {
   "display_name": "Python 3",
   "language": "python",
   "name": "python3"
  },
  "language_info": {
   "codemirror_mode": {
    "name": "ipython",
    "version": 3
   },
   "file_extension": ".py",
   "mimetype": "text/x-python",
   "name": "python",
   "nbconvert_exporter": "python",
   "pygments_lexer": "ipython3",
   "version": "3.7.7"
  }
 },
 "nbformat": 4,
 "nbformat_minor": 5
}
