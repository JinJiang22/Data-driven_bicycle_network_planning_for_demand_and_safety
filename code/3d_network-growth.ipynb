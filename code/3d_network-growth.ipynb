{
 "cells": [
  {
   "cell_type": "markdown",
   "metadata": {},
   "source": [
    "# Network growth\n",
    "This notebook is based on the notebooks of Michael Szell \"03_poi_based_generation.ipynb\" and \"04_analyze_results.ipynb\" that you can find here:\n",
    "\n",
    "https://github.com/mszell/bikenwgrowth"
   ]
  },
  {
   "cell_type": "markdown",
   "metadata": {},
   "source": [
    "### Parameters"
   ]
  },
  {
   "cell_type": "code",
   "execution_count": null,
   "metadata": {
    "scrolled": false
   },
   "outputs": [],
   "source": [
    "debug = True # If True, will produce plots and/or verbose output to double-check\n",
    "%run -i \"../parameters/parameters.py\""
   ]
  },
  {
   "cell_type": "markdown",
   "metadata": {},
   "source": [
    "### Setup"
   ]
  },
  {
   "cell_type": "code",
   "execution_count": null,
   "metadata": {
    "scrolled": true
   },
   "outputs": [],
   "source": [
    "%run -i path.py\n",
    "%run -i setup.py\n",
    "\n",
    "%load_ext watermark\n",
    "%watermark -n -v -m -g -iv"
   ]
  },
  {
   "cell_type": "markdown",
   "metadata": {},
   "source": [
    "### Functions"
   ]
  },
  {
   "cell_type": "code",
   "execution_count": null,
   "metadata": {},
   "outputs": [],
   "source": [
    "%run -i functions.py"
   ]
  },
  {
   "cell_type": "markdown",
   "metadata": {},
   "source": [
    "## Network growth"
   ]
  },
  {
   "cell_type": "code",
   "execution_count": null,
   "metadata": {},
   "outputs": [],
   "source": [
    "# params\n",
    "delta = 300\n",
    "alpha = 0.5\n",
    "Ds = list(np.arange(5000,95000,5000)) # m added to the infrastructure\n",
    "delta_and_alpha = [delta,alpha]\n",
    "limited_abstract_edges = None # set limited_abstract_edges meters != None (e.g. 5000 meters) for big cities"
   ]
  },
  {
   "cell_type": "code",
   "execution_count": null,
   "metadata": {},
   "outputs": [],
   "source": [
    "# Load networks\n",
    "G_carall = csv_to_ig(PATH[\"data\"] + placeid + \"/\", placeid, 'biketrackcarall')\n",
    "G_carallsimplified = csv_to_ig(PATH[\"data\"] + placeid + \"/\", placeid, 'biketrackcarall_simplified')\n",
    "G_biketrack = csv_to_ig(PATH[\"data\"] + placeid + \"/\", placeid, 'biketrack')\n",
    "G_biketracksimplified = csv_to_ig(PATH[\"data\"] + placeid + \"/\", placeid, 'biketrack_simplified')\n",
    "    \n",
    "# Load seed points\n",
    "with open(PATH[\"data\"] + placeid + \"/\" + placeid + '_seed-points_delta' + str(delta) + '.csv') as f:\n",
    "    nnids = [int(line.rstrip()) for line in f]\n",
    "\n",
    "# initialize weights\n",
    "POIs_weights = {}\n",
    "for i in range(len(nnids)):\n",
    "    POIs_weights[str(nnids[i])] = 1.0"
   ]
  },
  {
   "cell_type": "code",
   "execution_count": null,
   "metadata": {},
   "outputs": [],
   "source": [
    "# Generation\n",
    "(GTs, GT_abstracts,BWs) = greedy_triangulation_routing(G_carall, nnids, Ds,POIs_weights, True, G_biketrack, delta_and_alpha, limited_abstract_edges)"
   ]
  },
  {
   "cell_type": "markdown",
   "metadata": {},
   "source": [
    "## Analyze network"
   ]
  },
  {
   "cell_type": "code",
   "execution_count": null,
   "metadata": {},
   "outputs": [],
   "source": [
    "# Analyze the existing bicycle infrastructure\n",
    "\n",
    "output_ex, covs_ex, covs_ex_acc = calculate_metrics_additively([G_biketrack], [G_biketracksimplified], [0], G_carall, nnids, buffer_walk, buffer_accident, numnodepairs, True,output = {\n",
    "            \"directness_lcc\": [],\n",
    "            \"coverage\": [],\n",
    "            \"accidents_coverage19\": [],\n",
    "            \"trips_coverage\": [],\n",
    "            \"components\": []\n",
    "            },detour=0)"
   ]
  },
  {
   "cell_type": "code",
   "execution_count": null,
   "metadata": {},
   "outputs": [],
   "source": [
    "# Analyze our proposed network\n",
    "\n",
    "print(placeid + \": Analyzing results\")\n",
    "\n",
    "# output contains lists for all the Ds values of the corresponding metric\n",
    "output, cov, covs_acc = calculate_metrics_additively(GTs, GT_abstracts, Ds, G_carall, nnids, buffer_walk, buffer_accident, numnodepairs, debug,output = {\n",
    "            \"directness_lcc\": [],\n",
    "            \"coverage\": [],\n",
    "            \"accidents_coverage19\": [],\n",
    "            \"trips_coverage\": [],\n",
    "            \"components\": []\n",
    "            },detour = detour, cov_prev = covs_ex[0], cov_prev_acc = covs_ex_acc[0])"
   ]
  },
  {
   "cell_type": "code",
   "execution_count": null,
   "metadata": {},
   "outputs": [],
   "source": [
    "# Save network results\n",
    "results = {\"placeid\": placeid, \"Ds\": Ds, \"GTs\": GTs, \"GT_abstracts\": GT_abstracts}\n",
    "write_result(results, \"pickle\", placeid, 'delta' + str(delta) + \"NetGrowth_alpha\" + str(alpha) + \".pickle\")\n",
    "\n",
    "# Save metrics results to csv \n",
    "write_result(output, \"dict\", placeid,  'delta' + str(delta) + \"NetGrowth_alpha\" + str(alpha) +\".csv\")\n",
    "\n",
    "# Save metrics results to csv (existing bicycle infrastructure) \n",
    "write_result(output_ex, \"dict\", placeid,  \"results_existing_infra.csv\")"
   ]
  },
  {
   "cell_type": "code",
   "execution_count": null,
   "metadata": {},
   "outputs": [],
   "source": []
  }
 ],
 "metadata": {
  "kernelspec": {
   "display_name": "OSMNX",
   "language": "python",
   "name": "osmnx"
  },
  "language_info": {
   "codemirror_mode": {
    "name": "ipython",
    "version": 3
   },
   "file_extension": ".py",
   "mimetype": "text/x-python",
   "name": "python",
   "nbconvert_exporter": "python",
   "pygments_lexer": "ipython3",
   "version": "3.9.4"
  }
 },
 "nbformat": 4,
 "nbformat_minor": 2
}
