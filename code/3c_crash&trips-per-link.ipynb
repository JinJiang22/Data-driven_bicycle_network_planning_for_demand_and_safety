{
 "cells": [
  {
   "cell_type": "markdown",
   "metadata": {},
   "source": [
    "# Define number of crashes and trips per link\n",
    "\n",
    "In this notebook:\n",
    "\n",
    "(1) The trips passing through each node of the biketrackcarall network are counted.\n",
    "\n",
    "(2) The number of crashes and trips passing through each potential link is counted.\n",
    "\n",
    "(3) The number of crashes and trips passing through the links of the existing infrastructure is counted."
   ]
  },
  {
   "cell_type": "markdown",
   "metadata": {},
   "source": [
    "## Parameters"
   ]
  },
  {
   "cell_type": "code",
   "execution_count": null,
   "metadata": {},
   "outputs": [],
   "source": [
    "%run -i \"../parameters/parameters.py\""
   ]
  },
  {
   "cell_type": "markdown",
   "metadata": {},
   "source": [
    "## Setup"
   ]
  },
  {
   "cell_type": "code",
   "execution_count": null,
   "metadata": {
    "scrolled": true
   },
   "outputs": [],
   "source": [
    "%run -i path.py\n",
    "%run -i setup.py\n",
    "\n",
    "%load_ext watermark\n",
    "%watermark -n -v -m -g -iv"
   ]
  },
  {
   "cell_type": "markdown",
   "metadata": {},
   "source": [
    "## Functions"
   ]
  },
  {
   "cell_type": "code",
   "execution_count": null,
   "metadata": {},
   "outputs": [],
   "source": [
    "%run -i functions.py"
   ]
  },
  {
   "cell_type": "markdown",
   "metadata": {},
   "source": [
    "## Import the data"
   ]
  },
  {
   "cell_type": "code",
   "execution_count": null,
   "metadata": {},
   "outputs": [],
   "source": [
    "# Load networks\n",
    "\n",
    "G_biketrackcarall_OX = csv_to_ox(PATH[\"data\"] + placeid + \"/\", placeid, 'biketrackcarall')\n",
    "G_biketrackcarall_ALL = csv_to_ig(PATH[\"data\"] + placeid + \"/\", placeid, 'biketrackcarall')\n",
    "G_biketrackcarall = csv_to_ig(PATH[\"data\"] + placeid + \"/\", placeid, 'biketrackcarall')\n",
    "G_biketrackcarall_simplified = csv_to_ig(PATH[\"data\"] + placeid + \"/\", placeid, 'biketrackcarall_simplified')\n",
    "G_biketrack = csv_to_ig(PATH[\"data\"] + placeid + \"/\", placeid, 'biketrack')\n",
    "G_biketracksimplified = csv_to_ig(PATH[\"data\"] + placeid + \"/\", placeid, 'biketrack_simplified')"
   ]
  },
  {
   "cell_type": "code",
   "execution_count": null,
   "metadata": {},
   "outputs": [],
   "source": [
    "#load OD data\n",
    "\n",
    "OD = pd.read_csv(PATH[\"data\"] + placeid + \"/\" + \"OD_data.csv\")\n",
    "OD = OD.drop(['Unnamed: 0'], axis = 1)\n",
    "\n",
    "#load 2019 crash data\n",
    "\n",
    "accidents_softmobility = pd.read_csv(PATH[\"data\"] + placeid + \"/\" +'accidents_softmobility2019.csv')\n"
   ]
  },
  {
   "cell_type": "markdown",
   "metadata": {},
   "source": [
    "## (1) Create a df with the number of trips passing through each node of the biketrackcarall network"
   ]
  },
  {
   "cell_type": "markdown",
   "metadata": {},
   "source": [
    "### Get shortest paths"
   ]
  },
  {
   "cell_type": "code",
   "execution_count": null,
   "metadata": {},
   "outputs": [],
   "source": [
    "# choose \"howmany\" OD data randomly and get the shortest path on the network\n",
    "\n",
    "howmany = 30000 # number of trips requested. Make sure you exclude at least M trips (e.g. 500 trips) to evaluate the trip coverage on unseen trips\n",
    "s = 10 # random seed to order randomly the trips. Make sure you provided the same random seed to the function calculate_tripscovered()\n",
    "\n",
    "ids = list(np.arange(len(OD)))\n",
    "\n",
    "random.seed(s)\n",
    "random.shuffle(ids)\n",
    "selected_ids = ids[:howmany]\n",
    "\n",
    "routenodepairs = list()\n",
    "\n",
    "for j,i in enumerate(selected_ids):\n",
    "    \n",
    "    print(j+1,'/',len(selected_ids))\n",
    "    nO=ox.distance.get_nearest_node(G_biketrackcarall_OX, [OD['O_lat'].iloc[i], OD['O_lon'].iloc[i]])\n",
    "    nD=ox.distance.get_nearest_node(G_biketrackcarall_OX, [OD['D_lat'].iloc[i], OD['D_lon'].iloc[i]])\n",
    "    routenodepairs.append((nO,nD))\n",
    "    clear_output(wait=True)"
   ]
  },
  {
   "cell_type": "markdown",
   "metadata": {},
   "source": [
    "### Snap the shortest paths on the road network\n",
    "The following cell create a network based on the \"biketrackcarall\" network, selecting all the edges crossed at least once by a trip."
   ]
  },
  {
   "cell_type": "code",
   "execution_count": null,
   "metadata": {},
   "outputs": [],
   "source": [
    "tot_e = []\n",
    "bike_e = []\n",
    "GT_indices = set()\n",
    "GT_indices_list = list()\n",
    "for i,poipair in enumerate(routenodepairs):\n",
    "    \n",
    "    print(i+1,'/',len(routenodepairs))\n",
    "    poipair_ind = (G_biketrackcarall_ALL.vs.find(id = poipair[0]).index, G_biketrackcarall_ALL.vs.find(id = poipair[1]).index)\n",
    "    sp = set(G_biketrackcarall_ALL.get_shortest_paths(poipair_ind[0], poipair_ind[1], weights = \"weight\", output = \"vpath\")[0])\n",
    "    GT_indices = GT_indices.union(sp)\n",
    "    for n in sp:\n",
    "        GT_indices_list.append(n)\n",
    "    clear_output(wait=True)\n",
    "    \n",
    "GT = G_biketrackcarall_ALL.induced_subgraph(GT_indices)    \n",
    "    \n",
    "tot_e.append(len(GT.es))"
   ]
  },
  {
   "cell_type": "markdown",
   "metadata": {},
   "source": [
    "### snap the shortest paths on the road network and weight the network with the frequency of usage of links\n",
    "The following cell create a network based on the \"biketrackcarall\" network, selecting all the edges crossed at least once by a trip. It also adds an edge weight labeled \"n_trips\" with the number of trips that cross the edge."
   ]
  },
  {
   "cell_type": "code",
   "execution_count": null,
   "metadata": {},
   "outputs": [],
   "source": [
    "tot_e = []\n",
    "bike_e = []\n",
    "\n",
    "used_links = {}\n",
    "\n",
    "for i,poipair in enumerate(routenodepairs):\n",
    "    GT_indices = set()\n",
    "    print(i+1,'/',len(routenodepairs))\n",
    "    poipair_ind = (G_biketrackcarall.vs.find(id = poipair[0]).index, G_biketrackcarall.vs.find(id = poipair[1]).index)\n",
    "    sp = set(G_biketrackcarall.get_shortest_paths(poipair_ind[0], poipair_ind[1], weights = \"weight\", output = \"epath\")[0])\n",
    "    for n in sp:\n",
    "        if str(n) not in list(used_links.keys()):\n",
    "            used_links[str(n)] = 1\n",
    "        else:\n",
    "            used_links[str(n)] += 1\n",
    "        \n",
    "        G_biketrackcarall.es[n]['n_trips'] = used_links[str(n)]\n",
    "            \n",
    "    clear_output(wait=True)\n",
    "\n",
    "for c,e in enumerate(G_biketrackcarall.es):\n",
    "    if e['n_trips'] == None:\n",
    "        e['n_trips'] = 0"
   ]
  },
  {
   "cell_type": "code",
   "execution_count": null,
   "metadata": {},
   "outputs": [],
   "source": [
    "# calculate how many trips pass through each node\n",
    "\n",
    "trips_nodes = {}\n",
    "\n",
    "for vv in G_biketrackcarall.vs:\n",
    "    trips_nodes[vv['id']] = {'x': vv['x'], 'y': -vv['y'], 'trips': 0}\n",
    "\n",
    "for i,poipair in enumerate(routenodepairs):\n",
    "    GT_indices = set()\n",
    "    print(i+1,'/',len(routenodepairs))\n",
    "    poipair_ind = (G_biketrackcarall.vs.find(id = poipair[0]).index, G_biketrackcarall.vs.find(id = poipair[1]).index)\n",
    "    sp = set(G_biketrackcarall.get_shortest_paths(poipair_ind[0], poipair_ind[1], weights = \"weight\", output = \"vpath\")[0])\n",
    "    \n",
    "    for n in sp:\n",
    "        trips_nodes[G_biketrackcarall.vs[n]['id']]['trips'] += 1\n",
    "    \n",
    "    clear_output(wait=True)"
   ]
  },
  {
   "cell_type": "code",
   "execution_count": null,
   "metadata": {},
   "outputs": [],
   "source": [
    "# save in csv file the trips per node\n",
    "\n",
    "node_ids = []\n",
    "lat = []\n",
    "lon = []\n",
    "trips = []\n",
    "\n",
    "for i,t in enumerate(trips_nodes):\n",
    "    print(i+1, '/',len(trips_nodes))\n",
    "    node_ids.append(t)\n",
    "    lat.append(trips_nodes[t]['y'])\n",
    "    lon.append(trips_nodes[t]['x'])\n",
    "    trips.append(trips_nodes[t]['trips'])\n",
    "    clear_output(wait=True)\n",
    "    \n",
    "\n",
    "data = {'ids' : node_ids, 'lat' : lat, 'lon' : lon, 'trips' : trips}    \n",
    "trips_per_node_df = pd.DataFrame(data)\n",
    "\n",
    "trips_per_node_df.to_csv(PATH['data'] + placeid + \"/\" +'/trips_per_node-seed10.csv')"
   ]
  },
  {
   "cell_type": "markdown",
   "metadata": {},
   "source": [
    "## (2) Count the number of crashes and trips passing through each potential link"
   ]
  },
  {
   "cell_type": "code",
   "execution_count": null,
   "metadata": {},
   "outputs": [],
   "source": [
    "# Load seed points\n",
    "\n",
    "delta = 300\n",
    "\n",
    "with open(PATH[\"data\"] + placeid + \"/\" + placeid + '_seed-points_delta' + str(delta) + '.csv') as f:\n",
    "    nnids = [int(line.rstrip()) for line in f]\n",
    "    \n",
    "len(nnids)"
   ]
  },
  {
   "cell_type": "code",
   "execution_count": null,
   "metadata": {},
   "outputs": [],
   "source": [
    "#calculate distance between each pair of seed points\n",
    "\n",
    "poipairs = poipairs_by_distance(G_biketrackcarall_ALL, nnids,True)\n",
    "\n",
    "print(len(poipairs))"
   ]
  },
  {
   "cell_type": "markdown",
   "metadata": {},
   "source": [
    "### Calculate the number of crashes for each routed link"
   ]
  },
  {
   "cell_type": "code",
   "execution_count": null,
   "metadata": {},
   "outputs": [],
   "source": [
    "start = time.time()\n",
    "poipairs_list = list()\n",
    "poipairs_dict = dict()\n",
    "\n",
    "i = 1\n",
    "middle_start = time.time()\n",
    "\n",
    "# iterate over all poipairs (each poipair has a link in GT_abstract)\n",
    "for poipair, poipair_distance in poipairs:\n",
    "    \n",
    "    print(i,'/',len(poipairs))\n",
    "    print('Time last poipair: ', np.round((time.time()-middle_start),2), ' s')\n",
    "    print('Tot time: ', np.round((time.time()-start)/60,2),' minutes')\n",
    "    text_file = open(\"Accidents&Trips.txt\", \"w\")\n",
    "    n = text_file.write(str(i)+'/'+str(len(poipairs))+' - Time last poipair: '+str(np.round((time.time()-middle_start),2))+ ' s' + ' - Tot time: '+str(np.round((time.time()-start)/60,2)) + ' minutes')\n",
    "    text_file.close()\n",
    "    middle_start = time.time()\n",
    "    \n",
    "    acc_counter = 0\n",
    "   \n",
    "    \n",
    "    GT_indices = set()\n",
    "        \n",
    "    poipair_ind = (G_biketrackcarall_ALL.vs.find(id = poipair[0]).index, G_biketrackcarall_ALL.vs.find(id = poipair[1]).index)\n",
    "    sp = set(G_biketrackcarall_ALL.get_shortest_paths(poipair_ind[0], poipair_ind[1], weights = \"weight\", output = \"vpath\")[0])\n",
    "    GT_indices = GT_indices.union(sp)\n",
    "    \n",
    "    G_temp = G_biketrackcarall_ALL.induced_subgraph(GT_indices)\n",
    "    \n",
    "    \n",
    "    # compute the cover area of the link (with a buffer = 50 m)\n",
    "    covered_area,cov = calculate_coverage_edges(G_temp, buffer_m = 50, return_cov = True)\n",
    "    \n",
    "    # count how many accidents are located in the covered area\n",
    "    for k in range(len(accidents_softmobility)):\n",
    "        if Point(accidents_softmobility.iloc[k]['longitude'],-accidents_softmobility.iloc[k]['latitude']).within(cov):\n",
    "            acc_counter += 1\n",
    "    \n",
    "    # add to a list poipairs, how many accidents the link covers\n",
    "    poipairs_list.append([poipair,poipair_distance,acc_counter])\n",
    "    \n",
    "    # add to a dict poipairs (as key), how many accidents the link covers\n",
    "    poipairs_dict[str(poipair[0])+','+str(poipair[1])] = acc_counter\n",
    "    \n",
    "    i += 1\n",
    "    clear_output(wait=True)\n",
    "    \n",
    "    \n",
    "end = time.time()\n",
    "print('Total time: ', np.round((end-start)/60,2),' minutes')"
   ]
  },
  {
   "cell_type": "markdown",
   "metadata": {},
   "source": [
    "Save the accidents per link data"
   ]
  },
  {
   "cell_type": "code",
   "execution_count": null,
   "metadata": {},
   "outputs": [],
   "source": [
    "mp = []\n",
    "ma = []\n",
    "for k in poipairs_dict.keys():\n",
    "    ma.append(poipairs_dict[k])\n",
    "    mp.append(k)\n",
    "\n",
    "data = {'poipairs' : mp, 'accidents' : ma}    \n",
    "df = pd.DataFrame(data)\n",
    "\n",
    "path_file = PATH[\"data\"] + placeid + \"/\" + placeid + '_ONLYaccidentsrouting_counter' + str(poi_distance) + '.csv'\n",
    "df.to_csv(path_file)"
   ]
  },
  {
   "cell_type": "markdown",
   "metadata": {},
   "source": [
    "### Calculate the number of trips per link\n",
    "To do this, we consider the nodes belonging to a given trip and we sum the number of trips passing through these nodes"
   ]
  },
  {
   "cell_type": "code",
   "execution_count": null,
   "metadata": {},
   "outputs": [],
   "source": [
    "# define a dict using the dataframe 'trips_per_node_df'\n",
    "trips_per_node_dict = {}\n",
    "\n",
    "for i in range(len(trips_per_node_df)):\n",
    "    print(i+1,'/',len(trips_per_node_df))\n",
    "    trips_per_node_dict[str(int(trips_per_node_df.iloc[i]['ids']))] = trips_per_node_df.iloc[i]['trips']\n",
    "    clear_output(wait=True)\n",
    "trips_per_node_dict"
   ]
  },
  {
   "cell_type": "markdown",
   "metadata": {},
   "source": [
    "For each trip, count the number of trips passing through the nodes of the trip"
   ]
  },
  {
   "cell_type": "code",
   "execution_count": null,
   "metadata": {},
   "outputs": [],
   "source": [
    "poipairs_dict = {}\n",
    "c = 1\n",
    "for poipair, poipair_distance in poipairs:\n",
    "    \n",
    "    print(c,'/',len(poipairs))\n",
    "    \n",
    "    poipair_ind = (G_biketrackcarall_ALL.vs.find(id = poipair[0]).index, G_biketrackcarall_ALL.vs.find(id = poipair[1]).index)\n",
    "    sp = set(G_biketrackcarall_ALL.get_shortest_paths(poipair_ind[0], poipair_ind[1], weights = \"weight\", output = \"vpath\")[0])\n",
    "    counter = 0\n",
    "    for n in sp:\n",
    "        counter = counter + trips_per_node_dict[str(G_biketrackcarall_ALL.vs[n]['id'])]\n",
    "    poipairs_dict[str(poipair[0])+','+str(poipair[1])] = counter\n",
    "    \n",
    "    c += 1\n",
    "    \n",
    "    clear_output(wait=True)\n"
   ]
  },
  {
   "cell_type": "markdown",
   "metadata": {},
   "source": [
    "### Save the trips per link data"
   ]
  },
  {
   "cell_type": "code",
   "execution_count": null,
   "metadata": {},
   "outputs": [],
   "source": [
    "mp = []\n",
    "mt = []\n",
    "for k in poipairs_dict.keys():\n",
    "    mt.append(poipairs_dict[k])\n",
    "    mp.append(k)\n",
    "\n",
    "data = {'poipairs' : mp, 'trips' : mt}    \n",
    "df = pd.DataFrame(data)\n",
    "\n",
    "path_file = PATH[\"data\"] + placeid + \"/\" + placeid + '_ONLYtrips_counter' + str(delta) + '.csv'\n",
    "\n",
    "df.to_csv(path_file)"
   ]
  },
  {
   "cell_type": "markdown",
   "metadata": {},
   "source": [
    "## (3) Count the number of crashes and trips passing through the links of the existing infrastructure"
   ]
  },
  {
   "cell_type": "code",
   "execution_count": null,
   "metadata": {},
   "outputs": [],
   "source": [
    "# CRASHES\n",
    "\n",
    "# calculate the number of CRASHES for each link\n",
    "\n",
    "start = time.time()\n",
    "poipairs_list = list()\n",
    "poipairs_dict = dict()\n",
    "\n",
    "i = 0\n",
    "middle_start = time.time()\n",
    "\n",
    "# iterate over all poipairs (each poipair has a link in GT_abstract)\n",
    "for e in G_biketrack.es:\n",
    "    \n",
    "    print(i,'/',len(G_biketrack.es))\n",
    "    print('Time last poipair: ', np.round((time.time()-middle_start),2), ' s')\n",
    "    print('Tot time: ', np.round((time.time()-start)/60,2),' minutes')\n",
    "    text_file = open(\"Accidents&Trips.txt\", \"w\")\n",
    "    n = text_file.write(str(i)+'/'+str(len(poipairs))+' - Time last poipair: '+str(np.round((time.time()-middle_start),2))+ ' s' + ' - Tot time: '+str(np.round((time.time()-start)/60,2)) + ' minutes')\n",
    "    text_file.close()\n",
    "    middle_start = time.time()\n",
    "    \n",
    "    acc_counter = 0\n",
    "    \n",
    "    \n",
    "    G_temp = copy.deepcopy(G_biketrack)\n",
    "    \n",
    "    G_temp.es.delete()\n",
    "\n",
    "    G_temp.add_edge(e.source,e.target,weight=e['weight'],osmid = e['osmid'])\n",
    "  \n",
    "    \n",
    "    \n",
    "    # compute the cover area of the link (with a buffer = 50 m)\n",
    "    covered_area,cov = calculate_coverage_edges(G_temp, buffer_m = 50, return_cov = True)\n",
    "    \n",
    "    # count how many accidents are located in the covered area\n",
    "    for k in range(len(accidents_softmobility)):\n",
    "        if Point(accidents_softmobility.iloc[k]['longitude'],-accidents_softmobility.iloc[k]['latitude']).within(cov):\n",
    "            acc_counter += 1\n",
    "\n",
    "    poipairs_dict[str(i)] = acc_counter\n",
    "    \n",
    "    i += 1\n",
    "    clear_output(wait=True)\n",
    "    \n",
    "end = time.time()\n",
    "print('Total time: ', np.round((end-start)/60,2),' minutes')"
   ]
  },
  {
   "cell_type": "code",
   "execution_count": null,
   "metadata": {},
   "outputs": [],
   "source": [
    "# save the accidents per link data\n",
    "mp = []\n",
    "ma = []\n",
    "for k in poipairs_dict.keys():\n",
    "    ma.append(poipairs_dict[k])\n",
    "    mp.append(k)\n",
    "\n",
    "data = {'link' : mp, 'accidents' : ma}    \n",
    "df = pd.DataFrame(data)\n",
    "\n",
    "path_file = PATH[\"data\"] + placeid + \"/\" + placeid + + '_ONLYaccidentsrouting_EXISTING_counter.csv'\n",
    "\n",
    "df.to_csv(path_file)"
   ]
  },
  {
   "cell_type": "markdown",
   "metadata": {},
   "source": [
    "To count the number of trips through a link of the existing bike network, we sum the number of trips passing through the source and target nodes."
   ]
  },
  {
   "cell_type": "code",
   "execution_count": null,
   "metadata": {},
   "outputs": [],
   "source": [
    "poipairs_dict = {}\n",
    "\n",
    "for c,e in enumerate(G_biketrack.es):\n",
    "    \n",
    "    print(c,'/',len(G_biketrack.es))\n",
    "    \n",
    "    n_s = e.source\n",
    "    n_t = e.target\n",
    "    \n",
    "    poipairs_dict[str(c)] = trips_per_node_dict[str(G_carall.vs[n_s]['id'])] + trips_per_node_dict[str(G_carall.vs[n_t]['id'])]\n",
    "    \n",
    "\n",
    "    clear_output(wait=True)"
   ]
  },
  {
   "cell_type": "code",
   "execution_count": null,
   "metadata": {},
   "outputs": [],
   "source": [
    "# save the accidents per link data\n",
    "mp = []\n",
    "mt = []\n",
    "for k in poipairs_dict.keys():\n",
    "    mt.append(poipairs_dict[k])\n",
    "    mp.append(k)\n",
    "\n",
    "data = {'link' : mp, 'trips' : mt}    \n",
    "df = pd.DataFrame(data)\n",
    "\n",
    "path_file = PATH[\"data\"] + placeid + \"/\" + placeid + '_ONLYtrips_EXISTING_counter.csv'\n",
    "\n",
    "df.to_csv(path_file)"
   ]
  },
  {
   "cell_type": "code",
   "execution_count": null,
   "metadata": {},
   "outputs": [],
   "source": []
  }
 ],
 "metadata": {
  "kernelspec": {
   "display_name": "OSMNX",
   "language": "python",
   "name": "osmnx"
  },
  "language_info": {
   "codemirror_mode": {
    "name": "ipython",
    "version": 3
   },
   "file_extension": ".py",
   "mimetype": "text/x-python",
   "name": "python",
   "nbconvert_exporter": "python",
   "pygments_lexer": "ipython3",
   "version": "3.9.4"
  }
 },
 "nbformat": 4,
 "nbformat_minor": 2
}
