{
 "cells": [
  {
   "cell_type": "markdown",
   "id": "ac13c7a5",
   "metadata": {},
   "source": [
    "# Generate OD data from e-scooter positions\n",
    "\n",
    "In this notebook we process the e-scooter position data, collected using the notebook \"1b_collect-escooter-data.ipynb\" to generate Origin-Destination data that we can use to define a trips data set."
   ]
  },
  {
   "cell_type": "markdown",
   "id": "872661de",
   "metadata": {},
   "source": [
    "## Setup"
   ]
  },
  {
   "cell_type": "code",
   "execution_count": null,
   "id": "9518b1c6",
   "metadata": {},
   "outputs": [],
   "source": [
    "%run -i path.py\n",
    "%run -i setup.py"
   ]
  },
  {
   "cell_type": "markdown",
   "id": "4d9b46d0",
   "metadata": {},
   "source": [
    "## Functions"
   ]
  },
  {
   "cell_type": "code",
   "execution_count": null,
   "id": "c78f45fe",
   "metadata": {},
   "outputs": [],
   "source": [
    "%run -i functions.py"
   ]
  },
  {
   "cell_type": "code",
   "execution_count": null,
   "id": "354a609a",
   "metadata": {},
   "outputs": [],
   "source": [
    "# create a single dataframe with the collected data\n",
    "\n",
    "start = 500\n",
    "end = 555\n",
    "\n",
    "start_day = '2021-05-26'\n",
    "end_day = '2021-10-28'\n",
    "\n",
    "frames = []\n",
    "\n",
    "for i in range(start,end):\n",
    "    \n",
    "    print(i+1,'/',end)\n",
    "    \n",
    "    # load the data\n",
    "    frame = pd.read_csv(PATH['data_api']+ placeid + \"/\"+'TimeSlot'+str(i)+'_Start'+str(start_day)+'_End'+str(end_day)+'.csv')\n",
    "\n",
    "    # delete the overlapping data\n",
    "    frame = frame.drop_duplicates(['id'],ignore_index=True)\n",
    "    \n",
    "    # append to a list of df\n",
    "    frames.append(frame)\n",
    "    \n",
    "    clear_output(wait=True)"
   ]
  },
  {
   "cell_type": "code",
   "execution_count": null,
   "id": "e977a9c9",
   "metadata": {},
   "outputs": [],
   "source": [
    "# gdf of the edges of Turin street network\n",
    "gdf_edges = gpd.read_file(PATH['data']+'graph_shapefile/Turin/edges.shp')"
   ]
  },
  {
   "cell_type": "code",
   "execution_count": null,
   "id": "0292c76b",
   "metadata": {},
   "outputs": [],
   "source": [
    "# find unique values for 'code' in all df, then create a list with all the 'code' unique values found in data collection\n",
    "\n",
    "unique_code = find_unique_code(frames)\n",
    "\n",
    "# remove the data in which 'code' refears to more than 1 e-scooter\n",
    "\n",
    "code_list, doubles = remove_doubles(frames,unique_code)"
   ]
  },
  {
   "cell_type": "code",
   "execution_count": null,
   "id": "ca8eb850",
   "metadata": {},
   "outputs": [],
   "source": [
    "print(\"Number of vehicles with unique code: \",len(code_list))\n",
    "print(\"Number of codes that we delete because they are not unique: \",len(doubles))"
   ]
  },
  {
   "cell_type": "markdown",
   "id": "1da38a16",
   "metadata": {},
   "source": [
    "The function OD_data(frames,code,d_T,t_T) finds the positions of the vehicle identified by the variable \"code\" that are stored in the list of dataframes \"frames\". Then it identifies the movement made by the given vehicle. 2 threshold are defined to define the movements:\n",
    "* \"d_T\" -> threshold (in meters) to define a movement: if the position of a vehicle changes of > d_T meters from frames[i-1] to frames[i], we consider it as a movement.\n",
    "* \"t_T\" -> threshold (in minutes) to define a movement: we do not consider a change in the position as a movement if the time between the detection in frames[i-1] and frames[i] is > t_T minutes\n",
    "\n",
    "It returns the coordinates of the Origin (O_lat and O_lon), the battery level of the Origin (O_battery), the coordinates of the Destination (D_lat and D_lon), the battery level of the Destination (D_battery), the codes that identifies the vehicle that made this movements (codes)."
   ]
  },
  {
   "cell_type": "code",
   "execution_count": null,
   "id": "15aa0457",
   "metadata": {},
   "outputs": [],
   "source": [
    "# find OD_data for TimeSlot from i = start to i = end\n",
    "\n",
    "d_T = 100 # threshold (in meters)\n",
    "t_T = 90 # threshold (in minutes)\n",
    "\n",
    "O_lat_tot = []\n",
    "O_lon_tot = []\n",
    "O_time_tot = []\n",
    "O_battery_tot = []\n",
    "D_lat_tot = []\n",
    "D_lon_tot = []\n",
    "D_time_tot = []\n",
    "D_battery_tot = []\n",
    "codes_tot = []\n",
    "\n",
    "for j,code in enumerate(code_list):\n",
    "    \n",
    "    print(j+1,'/',len(code_list))\n",
    "    \n",
    "    O_lat,O_lon,O_time,O_battery,D_lat,D_lon,D_time,D_battery,codes = OD_data(frames,code,d_T ,t_T)\n",
    "    \n",
    "    O_lat_tot = O_lat_tot + O_lat\n",
    "    O_lon_tot = O_lon_tot + O_lon\n",
    "    O_time_tot = O_time_tot + O_time\n",
    "    O_battery_tot = O_battery_tot + O_battery\n",
    "    D_lat_tot = D_lat_tot + D_lat\n",
    "    D_lon_tot = D_lon_tot + D_lon\n",
    "    D_time_tot = D_time_tot + D_time\n",
    "    D_battery_tot = D_battery_tot + D_battery\n",
    "    codes_tot = codes_tot + codes\n",
    "    \n",
    "    clear_output(wait=True)"
   ]
  },
  {
   "cell_type": "code",
   "execution_count": null,
   "id": "880a0698",
   "metadata": {},
   "outputs": [],
   "source": [
    "data = {\n",
    "    'O_lat' : O_lat_tot,\n",
    "    'O_lon' : O_lon_tot,\n",
    "    'D_lat' : D_lat_tot,\n",
    "    'D_lon' : D_lon_tot,\n",
    "    'O_time' : O_time_tot,\n",
    "    'D_time' : D_time_tot,\n",
    "    'O_battery' : O_battery_tot,\n",
    "    'D_battery' : D_battery_tot,\n",
    "    'code' : codes_tot\n",
    "}"
   ]
  },
  {
   "cell_type": "code",
   "execution_count": null,
   "id": "7369543f",
   "metadata": {},
   "outputs": [],
   "source": [
    "# set the od_data into a df\n",
    "OD_matrix0_end = pd.DataFrame(data, columns = list(data.keys()))\n",
    "\n",
    "#sort dataframe by O_time\n",
    "OD_matrix0_end = OD_matrix0_end.sort_values(by='O_time')\n",
    "OD_matrix0_end = OD_matrix0_end.reset_index()\n",
    "OD_matrix0_end = OD_matrix0_end.drop(['index'],axis=1)\n",
    "\n",
    "# add a column with O_battery - D_battery: we use this value to remove the movements made by the company (negative values)\n",
    "OD_matrix0_end['batt_diff'] = OD_matrix0_end['O_battery']-OD_matrix0_end['D_battery']\n",
    "OD_matrix0_end"
   ]
  },
  {
   "cell_type": "code",
   "execution_count": null,
   "id": "60474730",
   "metadata": {},
   "outputs": [],
   "source": [
    "# remove movements made by the company\n",
    "a = OD_matrix0_end[OD_matrix0_end['D_battery'] < 99] # remove data if the destination battery level is > 98 (it means it did not decrease after a trip)\n",
    "clean_OD = a[a['batt_diff']>0].reset_index()\n",
    "clean_OD = clean_OD.drop(['index'],axis=1)\n",
    "clean_OD"
   ]
  },
  {
   "cell_type": "code",
   "execution_count": null,
   "id": "7db99224",
   "metadata": {},
   "outputs": [],
   "source": [
    "# compute the euclidean distance (in meters) between Origin-Destination\n",
    "distance = list()\n",
    "\n",
    "for i in range(len(clean_OD)):\n",
    "    \n",
    "    print(i+1,'/',len(clean_OD))\n",
    "\n",
    "    distance_meters = haversine((clean_OD.iloc[i]['D_lat'],clean_OD.iloc[i]['D_lon']), (clean_OD.iloc[i]['O_lat'], clean_OD.iloc[i]['O_lon']), unit=\"m\")\n",
    "    \n",
    "    distance.append(distance_meters)\n",
    "    \n",
    "    clear_output(wait=True)\n",
    "    \n",
    "clean_OD[\"euclid_distance\"] = distance"
   ]
  },
  {
   "cell_type": "code",
   "execution_count": null,
   "id": "1d1642b0",
   "metadata": {},
   "outputs": [],
   "source": [
    "# export the OD data\n",
    "clean_OD.to_csv(PATH['data']+ placeid + \"/\" + \"OD_data.csv\")"
   ]
  },
  {
   "cell_type": "code",
   "execution_count": null,
   "id": "d6be78ff",
   "metadata": {},
   "outputs": [],
   "source": []
  }
 ],
 "metadata": {
  "kernelspec": {
   "display_name": "OSMNX",
   "language": "python",
   "name": "osmnx"
  },
  "language_info": {
   "codemirror_mode": {
    "name": "ipython",
    "version": 3
   },
   "file_extension": ".py",
   "mimetype": "text/x-python",
   "name": "python",
   "nbconvert_exporter": "python",
   "pygments_lexer": "ipython3",
   "version": "3.9.4"
  }
 },
 "nbformat": 4,
 "nbformat_minor": 5
}
