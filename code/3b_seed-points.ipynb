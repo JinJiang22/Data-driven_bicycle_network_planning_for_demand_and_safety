{
 "cells": [
  {
   "cell_type": "markdown",
   "metadata": {},
   "source": [
    "# Define seed points\n",
    "\n",
    "This notebook is based on the notebook of Michael Szell \"02_prepare_pois.ipynb\" that you can find here:\n",
    "\n",
    "https://github.com/mszell/bikenwgrowth"
   ]
  },
  {
   "cell_type": "markdown",
   "metadata": {},
   "source": [
    "### Parameters"
   ]
  },
  {
   "cell_type": "code",
   "execution_count": null,
   "metadata": {},
   "outputs": [],
   "source": [
    "#debug = False # If True, will produce plots and/or verbose output to double-check\n",
    "%run -i \"../parameters/parameters.py\""
   ]
  },
  {
   "cell_type": "markdown",
   "metadata": {},
   "source": [
    "### Setup"
   ]
  },
  {
   "cell_type": "code",
   "execution_count": null,
   "metadata": {
    "scrolled": true
   },
   "outputs": [],
   "source": [
    "%run -i path.py\n",
    "%run -i setup.py\n",
    "\n",
    "%load_ext watermark\n",
    "%watermark -n -v -m -g -iv"
   ]
  },
  {
   "cell_type": "markdown",
   "metadata": {},
   "source": [
    "### Functions"
   ]
  },
  {
   "cell_type": "code",
   "execution_count": null,
   "metadata": {},
   "outputs": [],
   "source": [
    "%run -i functions.py"
   ]
  },
  {
   "cell_type": "markdown",
   "metadata": {},
   "source": [
    "## Download and wrangle data"
   ]
  },
  {
   "cell_type": "code",
   "execution_count": null,
   "metadata": {},
   "outputs": [],
   "source": [
    "# Load all carall graphs in OSMNX format\n",
    "parameterinfo = osmnxparameters['carall']\n",
    "\n",
    "for placeid, placeinfo in tqdm(cities.items(), desc = \"Cities\"):\n",
    "    print(placeid + \": Loading location polygon and carall graph\")\n",
    "    \n",
    "    if placeinfo[\"nominatimstring\"] != '':\n",
    "        location = ox.geocoder.geocode_to_gdf(placeinfo[\"nominatimstring\"])\n",
    "        location = fill_holes(extract_relevant_polygon(placeid, shapely.geometry.shape(location['geometry'][0])))\n",
    "    else:\n",
    "        # https://gis.stackexchange.com/questions/113799/how-to-read-a-shapefile-in-python\n",
    "        shp = fiona.open(PATH[\"data\"] + placeid + \"/\" + placeid + \".shp\")\n",
    "        first = next(iter(shp))\n",
    "        location = shapely.geometry.shape(first['geometry'])\n",
    "    \n",
    "    \n",
    "G_biketrackcarall = csv_to_ox(PATH[\"data\"] + placeid + \"/\", placeid, 'biketrackcarall')\n",
    "G_biketrackcarall.graph[\"crs\"] = 'epsg:4326' # needed for OSMNX's graph_to_gdfs in utils_graph.py\n",
    "G_biketrackcarall_simplified = csv_to_ox(PATH[\"data\"] + placeid + \"/\", placeid, 'biketrackcarall_simplified')\n",
    "G_biketrackcarall_simplified.graph[\"crs\"] = 'epsg:4326' # needed for OSMNX's graph_to_gdfs in utils_graph.py\n",
    "    \n",
    "# Load biketrack network (iGraph format)\n",
    "G_biketrack = csv_to_ig(PATH[\"data\"] + placeid + \"/\", placeid, 'biketrack')"
   ]
  },
  {
   "cell_type": "code",
   "execution_count": null,
   "metadata": {},
   "outputs": [],
   "source": [
    "# Load pop data (Turin 2020)\n",
    "pop_shp = gpd.read_file(PATH[\"data\"] + placeid + \"/\" +'popTorino2020')\n",
    "\n",
    "# all the seed points located in regions with pop density < min_density will be removed\n",
    "\n",
    "min_density = 1185\n",
    "\n",
    "low_pop_density = pop_shp[pop_shp['dens_totpo'] < min_density]\n",
    "\n",
    "# remove from the low_pop_density df the city-centre regions (parks)\n",
    "\n",
    "low_pop_density = low_pop_density.drop([1,9,37])"
   ]
  },
  {
   "cell_type": "markdown",
   "metadata": {},
   "source": [
    "Using code from: https://github.com/gboeing/osmnx-examples/blob/v0.11/notebooks/17-street-network-orientations.ipynb"
   ]
  },
  {
   "cell_type": "code",
   "execution_count": null,
   "metadata": {
    "scrolled": true
   },
   "outputs": [],
   "source": [
    "delta = 300 # delta param\n",
    "  \n",
    "# FIRST, determine the most common bearing, for the best grid orientation\n",
    "G = G_biketrackcarall\n",
    "bearings = {}    \n",
    "# calculate edge bearings\n",
    "Gu = ox.bearing.add_edge_bearings(ox.get_undirected(G))\n",
    "\n",
    "# weight bearings by length (meters)\n",
    "city_bearings = []\n",
    "for u, v, k, d in Gu.edges(keys = True, data = True):\n",
    "    city_bearings.extend([d['bearing']] * int(d['length']))\n",
    "b = pd.Series(city_bearings)\n",
    "bearings = pd.concat([b, b.map(reverse_bearing)]).reset_index(drop = 'True')\n",
    "\n",
    "bins = np.arange(bearingbins + 1) * 360 / bearingbins\n",
    "count = count_and_merge(bearingbins, bearings)\n",
    "principalbearing = bins[np.where(count == max(count))][0]\n",
    "\n",
    "\n",
    "# SECOND, construct the grid\n",
    "G = G_biketrackcarall_simplified\n",
    "\n",
    "# 1) Get lat lon window, with buffer for snapping outside seed points\n",
    "# https://stackoverflow.com/questions/7477003/calculating-new-longitude-latitude-from-old-n-meters\n",
    "buf = max(((2*snapthreshold) / 6378000) * (180 / math.pi), \n",
    "        ((2*snapthreshold) / 6378000) * (180 / math.pi) / math.cos(location.centroid.y * math.pi/180)\n",
    "        )\n",
    "cities[placeid][\"bbox\"] = location.buffer(buf).bounds\n",
    "\n",
    "# 2) Generate abstract grid points in window\n",
    "# https://stackoverflow.com/questions/40342355/how-can-i-generate-a-regular-geographic-grid-using-python\n",
    "# Set up projections\n",
    "p_ll = pyproj.Proj('+proj=longlat +datum=WGS84')\n",
    "aeqd_proj = '+proj=aeqd +lat_0={lat} +lon_0={lon} +x_0=0 +y_0=0'\n",
    "p_mt = pyproj.Proj(aeqd_proj.format(lat=location.centroid.y, lon=location.centroid.x)) # equidistant projection\n",
    "\n",
    "# Make the area larger to account for tilted grid\n",
    "deltax = cities[placeid][\"bbox\"][2] - cities[placeid][\"bbox\"][0]\n",
    "deltay = cities[placeid][\"bbox\"][3] - cities[placeid][\"bbox\"][1]\n",
    "enlargefactor = 10\n",
    "\n",
    "# Create corners of rectangle to be transformed to a grid\n",
    "sw = shapely.geometry.Point((cities[placeid][\"bbox\"][0], cities[placeid][\"bbox\"][1]))\n",
    "ne = shapely.geometry.Point((cities[placeid][\"bbox\"][2]+enlargefactor*deltax, cities[placeid][\"bbox\"][3]+enlargefactor*deltay))\n",
    "    \n",
    "# Project corners to target projection\n",
    "transformed_sw = pyproj.transform(p_ll, p_mt, sw.x, sw.y) # Transform NW point to equidistant\n",
    "transformed_ne = pyproj.transform(p_ll, p_mt, ne.x, ne.y) # .. same for SE\n",
    "\n",
    "# Iterate over 2D area\n",
    "principalbearing = principalbearing % 90 # Take it modulo 90 because it will be a square grid\n",
    "if principalbearing > 45:\n",
    "    principalbearing -= 90 # Make bearing fall btw -45 and 45\n",
    "\n",
    "xcoords = np.arange(transformed_sw[0], transformed_ne[0], gridl)\n",
    "ycoords = np.arange(transformed_sw[1], transformed_ne[1], gridl)\n",
    "xsize =  xcoords.size\n",
    "ysize = ycoords.size\n",
    "xcoords = np.tile(xcoords, ysize)\n",
    "ycoords = np.repeat(ycoords, xsize)\n",
    "gridpoints=[(x, y) for x, y in zip(xcoords, ycoords)]\n",
    "new_points = rotate_grid(gridpoints, origin = transformed_sw, degrees = principalbearing)\n",
    "    \n",
    "# https://stackoverflow.com/questions/42459068/projecting-a-numpy-array-of-coordinates-using-pyproj\n",
    "fx, fy = pyproj.transform(p_mt, p_ll, new_points[:,0], new_points[:,1])\n",
    "gridpoints = np.dstack([fx, fy])[0]\n",
    "if principalbearing >=0:\n",
    "    # If we rotated right, we need to shift everything to the left\n",
    "    gridpoints[:,0] -= 0.4*enlargefactor*deltax*math.sin(np.deg2rad(principalbearing))\n",
    "else:\n",
    "    # If we rotated left, we need to shift everything down and to the right\n",
    "    gridpoints[:,0] += 0.4*enlargefactor*deltax*math.sin(np.deg2rad(principalbearing))\n",
    "    gridpoints[:,1] -= 0.4*enlargefactor*deltay\n",
    "\n",
    "# Cut back to bounding box\n",
    "mask = (gridpoints[:,0] >= cities[placeid][\"bbox\"][0]) & (gridpoints[:,0] <= cities[placeid][\"bbox\"][2]) & (gridpoints[:,1] >= cities[placeid][\"bbox\"][1]) & (gridpoints[:,1] <= cities[placeid][\"bbox\"][3])\n",
    "gridpoints_cut = gridpoints[mask]\n",
    "\n",
    "# 3) Snap grid points to map\n",
    "\n",
    "nnids = set() # set of nodes (seed points)\n",
    "    \n",
    "# add to the seed points the nodes of the existing bike net\n",
    "existing_nnids = G_biketrack.vs['id']        \n",
    "    \n",
    "for n in existing_nnids:    \n",
    "    add_point = True\n",
    "        \n",
    "        \n",
    "    if G.has_node(n):\n",
    "            \n",
    "        # check that the POI is not in a low density region\n",
    "        for kkk in range(len(low_pop_density)):\n",
    "            if Point(G.nodes[n][\"x\"],G.nodes[n][\"y\"]).within(low_pop_density['geometry'].iloc[kkk]):\n",
    "                add_point = False\n",
    "                break\n",
    "            \n",
    "        # check that the seed points distance is <= delta for each pair of seed points; if not, remove the POI\n",
    "        if add_point:\n",
    "            for jj in nnids:\n",
    "                if haversine((G.nodes[jj][\"y\"], G.nodes[jj][\"x\"]), (G.nodes[n][\"y\"], G.nodes[n][\"x\"]), unit=\"m\") <= delta:\n",
    "                    add_point = False\n",
    "                    break\n",
    "                    \n",
    "    else:\n",
    "        add_point = False\n",
    "        \n",
    "    # add the node to the seed points set if no exception occurred\n",
    "    if add_point:\n",
    "        nnids.add(n)\n",
    "        \n",
    "# add to the seed points the grid nodes\n",
    "    \n",
    "for g in gridpoints_cut:\n",
    "    n = ox.distance.get_nearest_node(G, [g[1], g[0]])\n",
    "    add_point = True\n",
    "    if n not in nnids and haversine((g[1], g[0]), (G.nodes[n][\"y\"], G.nodes[n][\"x\"]), unit=\"m\") <= snapthreshold:\n",
    "            \n",
    "        # check that the seed point is not in a low density region\n",
    "        for kkk in range(len(low_pop_density)):\n",
    "            if Point(G.nodes[n][\"x\"],G.nodes[n][\"y\"]).within(low_pop_density['geometry'].iloc[kkk]):\n",
    "                add_point = False\n",
    "                break\n",
    "            \n",
    "        # check that the new seed point is at least delta m far the other seed points\n",
    "        if add_point:\n",
    "            for jj in nnids:\n",
    "                if haversine((G.nodes[jj][\"y\"], G.nodes[jj][\"x\"]), (G.nodes[n][\"y\"], G.nodes[n][\"x\"]), unit=\"m\") <= delta:\n",
    "                    add_point = False\n",
    "                    break\n",
    "                    \n",
    "        # add the node to the seed points set if no exception occurred        \n",
    "        if add_point:\n",
    "            nnids.add(n)\n",
    "\n",
    "# save the nodes for the seed points\n",
    "with open(PATH[\"data\"] + placeid + \"/\" + placeid + '_seed-points_delta' + str(delta) + '.csv', 'w') as f:\n",
    "    for item in nnids:\n",
    "        f.write(\"%s\\n\" % item)"
   ]
  },
  {
   "cell_type": "code",
   "execution_count": null,
   "metadata": {},
   "outputs": [],
   "source": []
  }
 ],
 "metadata": {
  "kernelspec": {
   "display_name": "OSMNX",
   "language": "python",
   "name": "osmnx"
  },
  "language_info": {
   "codemirror_mode": {
    "name": "ipython",
    "version": 3
   },
   "file_extension": ".py",
   "mimetype": "text/x-python",
   "name": "python",
   "nbconvert_exporter": "python",
   "pygments_lexer": "ipython3",
   "version": "3.9.4"
  }
 },
 "nbformat": 4,
 "nbformat_minor": 2
}
