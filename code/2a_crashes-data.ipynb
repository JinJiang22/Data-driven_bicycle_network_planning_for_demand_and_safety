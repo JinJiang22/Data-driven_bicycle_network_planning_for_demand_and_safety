{
 "cells": [
  {
   "cell_type": "markdown",
   "id": "e3659a0e",
   "metadata": {},
   "source": [
    "# Crash data\n",
    "\n",
    "Run this notebook to get the data on crashes involving at least 1 bike or 1 e-scooter, including geolocation."
   ]
  },
  {
   "cell_type": "code",
   "execution_count": null,
   "id": "32aeb396",
   "metadata": {},
   "outputs": [],
   "source": [
    "import pandas as pd\n",
    "import numpy as np\n",
    "import geopandas as gpd\n",
    "import osmnx as ox\n",
    "from shapely.geometry import Point\n",
    "import matplotlib.pyplot as plt\n",
    "import shapely\n",
    "import time\n",
    "import random\n",
    "from IPython.core.display import clear_output\n",
    "import geopy"
   ]
  },
  {
   "cell_type": "code",
   "execution_count": null,
   "id": "c6475320",
   "metadata": {},
   "outputs": [],
   "source": [
    "# load paths\n",
    "\n",
    "%run -i path.py\n",
    "\n",
    "placeid = 'turin'"
   ]
  },
  {
   "cell_type": "code",
   "execution_count": null,
   "id": "80600f3f",
   "metadata": {},
   "outputs": [],
   "source": [
    "# gdf of the edges of Turin street network\n",
    "gdf_edges = gpd.read_file(PATH['data']+'graph_shapefile/Turin/edges.shp')"
   ]
  },
  {
   "cell_type": "markdown",
   "id": "c19dda39",
   "metadata": {},
   "source": [
    "## Crashes in Turin (2020)\n",
    "\n",
    "Download the csv file with all 2020 crashes in Turin available here:\n",
    "\n",
    "http://aperto.comune.torino.it/dataset/elenco-incidenti-2020/resource/2975b2cd-cd02-4d24-9a3d-e44d0e68f891"
   ]
  },
  {
   "cell_type": "code",
   "execution_count": null,
   "id": "39b5bb21",
   "metadata": {},
   "outputs": [],
   "source": [
    "accidents2020 = pd.read_csv(PATH['data'] + 'Elenco_Incidenti_2020.csv', sep = \",\",header=2)"
   ]
  },
  {
   "cell_type": "code",
   "execution_count": null,
   "id": "05486fa6",
   "metadata": {},
   "outputs": [],
   "source": [
    "# get only crashes involving at least 1 bike ('velocipede') \n",
    "bike_crashes = accidents2020[accidents2020[\"Velocipede\"] >= 1]\n",
    "\n",
    "# get only crashes involving at least 1 e-scooter ('Micromobilita' elettrica') \n",
    "escoo_crashes = accidents2020[accidents2020[\"Micromobilita' elettrica\"] >= 1]\n",
    "\n",
    "# concat bike and e-scooter crashes\n",
    "softmobility2020 = pd.concat([bike_crashes,escoo_crashes])\n",
    "\n",
    "# sort the crashes by date\n",
    "softmobility2020.sort_values('N. Ord',inplace=True)\n",
    "softmobility2020 = softmobility2020.reset_index(drop=True)"
   ]
  },
  {
   "cell_type": "code",
   "execution_count": null,
   "id": "529afd3d",
   "metadata": {},
   "outputs": [],
   "source": [
    "# convert lon and lat from str to float and replace ',' with '.'\n",
    "\n",
    "commas = []\n",
    "for i in range(len(softmobility2020)):\n",
    "    if type(softmobility2020.iloc[i]['Latitudine']) == type(softmobility2020.iloc[0]['Latitudine']):\n",
    "        if softmobility2020.iloc[i]['Latitudine'].find(',') != -1:\n",
    "            commas.append(i)\n",
    "\n",
    "for c in commas:\n",
    "    softmobility2020.at[c,'Latitudine'] = float(softmobility2020.iloc[c]['Latitudine'].replace(',','.'))\n",
    "    softmobility2020.at[c,'Longitudine'] = float(softmobility2020.iloc[c]['Longitudine'].replace(',','.'))   "
   ]
  },
  {
   "cell_type": "code",
   "execution_count": null,
   "id": "9e762a64",
   "metadata": {},
   "outputs": [],
   "source": [
    "# identify the index of missing locations\n",
    "\n",
    "missing_loc = []\n",
    "for i in range(len(softmobility2020)):\n",
    "    if i not in commas:\n",
    "        missing_loc.append(i)"
   ]
  },
  {
   "cell_type": "code",
   "execution_count": null,
   "id": "5e8b74cb",
   "metadata": {},
   "outputs": [],
   "source": [
    "# get the missing locations manually, using the annotations of column \"Denominazione strada o centro abitato\"\n",
    "\n",
    "softmobility2020.at[ 15   ,'Latitudine']=45.0607070007085\n",
    "softmobility2020.at[ 15   ,'Longitudine']=7.684978111262758\n",
    "softmobility2020.at[ 78   ,'Latitudine']=45.08275811314921\n",
    "softmobility2020.at[ 78   ,'Longitudine']=7.659489755440858\n",
    "softmobility2020.at[ 89   ,'Latitudine']=45.06567607842894\n",
    "softmobility2020.at[ 89   ,'Longitudine']=7.693580440098414\n",
    "softmobility2020.at[ 297   ,'Latitudine']=45.10521775158704\n",
    "softmobility2020.at[ 297   ,'Longitudine']=7.683001997770805\n",
    "softmobility2020.at[ 299   ,'Latitudine']=45.116153386878366\n",
    "softmobility2020.at[ 299   ,'Longitudine']=7.657704268935772\n",
    "softmobility2020.at[ 301   ,'Latitudine']=45.07685864720485\n",
    "softmobility2020.at[ 301   ,'Longitudine']=7.683674927897282\n",
    "softmobility2020.at[ 310   ,'Latitudine']=45.09581172153073\n",
    "softmobility2020.at[ 310   ,'Longitudine']=7.672257397770439\n",
    "softmobility2020.at[ 322   ,'Latitudine']=45.07612878448956\n",
    "softmobility2020.at[ 322   ,'Longitudine']=7.655983440098793\n",
    "softmobility2020.at[ 324   ,'Latitudine']=45.08943975201474\n",
    "softmobility2020.at[ 324   ,'Longitudine']=7.677871282428348\n",
    "softmobility2020.at[ 340   ,'Latitudine']=45.06794811139389\n",
    "softmobility2020.at[ 340   ,'Longitudine']=7.670548526604855\n",
    "softmobility2020.at[ 348   ,'Latitudine']=45.08104830416534\n",
    "softmobility2020.at[ 348   ,'Longitudine']=7.671097652057089\n",
    "softmobility2020.at[ 358   ,'Latitudine']=45.06703948118164\n",
    "softmobility2020.at[ 358   ,'Longitudine']=7.650882453592099\n",
    "softmobility2020.at[ 367   ,'Latitudine']=45.08701943229711\n",
    "softmobility2020.at[ 367   ,'Longitudine']=7.666188875513294"
   ]
  },
  {
   "cell_type": "code",
   "execution_count": null,
   "id": "36cabf51",
   "metadata": {},
   "outputs": [],
   "source": [
    "# rename Latitudine->latitude and Longitudine->longitude\n",
    "softmobility2020 = softmobility2020.rename({'Latitudine':'latitude', 'Longitudine':'longitude'}, axis=1)"
   ]
  },
  {
   "cell_type": "code",
   "execution_count": null,
   "id": "7bad5c8f",
   "metadata": {},
   "outputs": [],
   "source": [
    "# export the manipulated dataset\n",
    "softmobility2020.to_csv(PATH[\"data\"] + placeid + \"/\" +'accidents_softmobility2020.csv')"
   ]
  },
  {
   "cell_type": "code",
   "execution_count": null,
   "id": "5ea01a56",
   "metadata": {},
   "outputs": [],
   "source": [
    "# add geometry to the crashes dataframe\n",
    "\n",
    "geometry = [Point(xy) for xy in zip(softmobility2020.longitude, softmobility2020.latitude)]\n",
    "gdf_crashes_softmobility20 = gpd.GeoDataFrame(softmobility2020, crs=\"EPSG:4326\", geometry=geometry)"
   ]
  },
  {
   "cell_type": "code",
   "execution_count": null,
   "id": "3c1794ed",
   "metadata": {},
   "outputs": [],
   "source": [
    "# plot the crashes on Turin map\n",
    "\n",
    "ax = gdf_edges.plot(figsize=(15,8),alpha=.1, color='navy')\n",
    "\n",
    "gdf_crashes_softmobility20.plot(ax=ax,figsize=(24,16),color='darkgreen',alpha=.7)"
   ]
  },
  {
   "cell_type": "markdown",
   "id": "f6cc2a79",
   "metadata": {},
   "source": [
    "## Crashes in Turin (2019)\n",
    "\n",
    "Download the csv file with all 2019 crashes in Turin available here:\n",
    "\n",
    "http://aperto.comune.torino.it/dataset/elenco-incidenti-nell-anno-2019-nella-citta-di-torino\n",
    "\n",
    "In this dataset there is no \"Micromobilita' elettrica\" column, so there is no distinction between crashes involving bike and e-scooters. 2019 was the first year of usage of a new system to store the data, so a little more data processing is needed to set up our crash dataset."
   ]
  },
  {
   "cell_type": "markdown",
   "id": "ab59b750",
   "metadata": {},
   "source": [
    "## Adjust the dataset"
   ]
  },
  {
   "cell_type": "code",
   "execution_count": null,
   "id": "d29ab5ba",
   "metadata": {},
   "outputs": [],
   "source": [
    "accidents2019 = pd.read_csv(PATH['data'] + 'Elenco_Incidenti_2019.csv', sep = \";\",header=2)"
   ]
  },
  {
   "cell_type": "code",
   "execution_count": null,
   "id": "d358bedc",
   "metadata": {},
   "outputs": [],
   "source": [
    "# get only crashes involving at least 1 bike ('velocipede') \n",
    "bike_crashes = accidents2019[accidents2019['Velocipede'] >= 1]"
   ]
  },
  {
   "cell_type": "code",
   "execution_count": null,
   "id": "f998f84c",
   "metadata": {},
   "outputs": [],
   "source": [
    "bike_crashes = bike_crashes.reset_index(drop=True)\n",
    "bike_crashes"
   ]
  },
  {
   "cell_type": "code",
   "execution_count": null,
   "id": "44fba1e5",
   "metadata": {},
   "outputs": [],
   "source": [
    "# convert lon and lat from str to float and replace ',' with '.'\n",
    "\n",
    "commas = []\n",
    "for i in range(len(bike_crashes)):\n",
    "    if type(bike_crashes.iloc[i]['Latitudine']) == type(bike_crashes.iloc[0]['Latitudine']):\n",
    "        if bike_crashes.iloc[i]['Latitudine'].find(',') != -1:\n",
    "            commas.append(i)\n",
    "\n",
    "for c in commas:\n",
    "    bike_crashes.at[c,'Latitudine'] = float(bike_crashes.iloc[c]['Latitudine'].replace(',','.'))\n",
    "    bike_crashes.at[c,'Longitudine'] = float(bike_crashes.iloc[c]['Longitudine'].replace(',','.'))   "
   ]
  },
  {
   "cell_type": "code",
   "execution_count": null,
   "id": "bb4f388d",
   "metadata": {},
   "outputs": [],
   "source": [
    "# get the coordinates from the address\n",
    "# use geopy to get the coordinates of address with the sintax \"via xxxxxx number\"\n",
    "\n",
    "to_check = []\n",
    "indices_ok = []\n",
    "double_address = []\n",
    "lat = []\n",
    "lon = []\n",
    "\n",
    "for i in range(len(bike_crashes)):\n",
    "    \n",
    "    print(i+1,'/',len(bike_crashes))\n",
    "    if i not in commas:\n",
    "    \n",
    "        # add the indices of NaN values to a list \n",
    "        if bike_crashes['Denominazione strada o centro abitato'].iloc[i] != bike_crashes['Denominazione strada o centro abitato'].iloc[i]:\n",
    "            to_check.append(i)\n",
    "    \n",
    "        else:\n",
    "            if bike_crashes['Denominazione strada o centro abitato'].iloc[i].find(',') == -1:\n",
    "                locator = geopy.geocoders.Nominatim(user_agent='myGeocoder')\n",
    "                location = locator.geocode(bike_crashes['Denominazione strada o centro abitato'].iloc[i]+', Turin, Italy')\n",
    "                if location != None:\n",
    "                    lat.append(location.latitude)\n",
    "                    lon.append(location.longitude)\n",
    "                    indices_ok.append(i)\n",
    "        \n",
    "                # if geopy does not understand the address, it will return a \"NoneType\" location\n",
    "                # for these values add the indices to a list and then check using other methods\n",
    "                else:\n",
    "                    double_address.append(i)\n",
    "            else:\n",
    "                double_address.append(i)\n",
    "            \n",
    "    clear_output(wait=True)\n",
    "\n",
    "# fix the values of lat lon found with the address\n",
    "for j,i in enumerate(indices_ok):\n",
    "    bike_crashes.at[i,'Latitudine']=lat[j]\n",
    "    bike_crashes.at[i,'Longitudine']=lon[j]"
   ]
  },
  {
   "cell_type": "code",
   "execution_count": null,
   "id": "7a5c0026",
   "metadata": {},
   "outputs": [],
   "source": [
    "# these crashes are geolocated manually\n",
    "\n",
    "bike_crashes.at[ 1 ,'Latitudine']=45.08397867996193\n",
    "bike_crashes.at[ 1 ,'Longitudine']=7.6331809840222835\n",
    "bike_crashes.at[ 2 ,'Latitudine']=45.062731480180126\n",
    "bike_crashes.at[ 2 ,'Longitudine']=7.675381853324719\n",
    "bike_crashes.at[ 3 ,'Latitudine']=45.0953810903701\n",
    "bike_crashes.at[ 3 ,'Longitudine']=7.7016295686854805\n",
    "bike_crashes.at[ 4 ,'Latitudine']=45.08666506427556\n",
    "bike_crashes.at[ 4 ,'Longitudine']=7.6664945840237095\n",
    "bike_crashes.at[ 5 ,'Latitudine']=45.0614095129451\n",
    "bike_crashes.at[ 5 ,'Longitudine']=7.679731630039038\n",
    "bike_crashes.at[ 6 ,'Latitudine']=45.10343434740111\n",
    "bike_crashes.at[ 6 ,'Longitudine']=7.665395353347183\n",
    "bike_crashes.at[ 7 ,'Latitudine']=45.07458629677788\n",
    "bike_crashes.at[ 7 ,'Longitudine']=7.675906568674329\n",
    "bike_crashes.at[ 11 ,'Latitudine']=45.082292367083184\n",
    "bike_crashes.at[ 11 ,'Longitudine']=7.651418789895025\n",
    "bike_crashes.at[ 12 ,'Latitudine']=45.108700735691194\n",
    "bike_crashes.at[ 12 ,'Longitudine']=7.663120707321082\n",
    "bike_crashes.at[ 15 ,'Latitudine']=45.03315612193116\n",
    "bike_crashes.at[ 15 ,'Longitudine']=7.608621353308836\n",
    "bike_crashes.at[ 16 ,'Latitudine']=45.0665234970732\n",
    "bike_crashes.at[ 16 ,'Longitudine']=7.662149184012897\n",
    "bike_crashes.at[ 17 ,'Latitudine']=45.089818940854144\n",
    "bike_crashes.at[ 17 ,'Longitudine']=7.683439507310729\n",
    "bike_crashes.at[ 23 ,'Latitudine']=45.03864839350646\n",
    "bike_crashes.at[ 23 ,'Longitudine']=7.628703737968763\n",
    "bike_crashes.at[ 24 ,'Latitudine']=45.06251120518977\n",
    "bike_crashes.at[ 24 ,'Longitudine']=7.679944937981754\n",
    "bike_crashes.at[ 25 ,'Latitudine']=45.07842477393402\n",
    "bike_crashes.at[ 25 ,'Longitudine']=7.62333126867647\n",
    "bike_crashes.at[ 27 ,'Latitudine']=45.065656676264496\n",
    "bike_crashes.at[ 27 ,'Longitudine']=7.682180784012162\n",
    "bike_crashes.at[ 28 ,'Latitudine']=45.0780465374868\n",
    "bike_crashes.at[ 28 ,'Longitudine']=7.684441637990146\n",
    "bike_crashes.at[ 30 ,'Latitudine']=45.077126730030734\n",
    "bike_crashes.at[ 30 ,'Longitudine']=7.698149253332636\n",
    "bike_crashes.at[ 31 ,'Latitudine']=45.06141312496538\n",
    "bike_crashes.at[ 31 ,'Longitudine']=7.685231137981133\n",
    "bike_crashes.at[ 48 ,'Latitudine']=45.0747549527113\n",
    "bike_crashes.at[ 48 ,'Longitudine']=7.6853669686742565\n",
    "bike_crashes.at[ 49 ,'Latitudine']=45.07792720152072\n",
    "bike_crashes.at[ 49 ,'Longitudine']=7.646738414704918\n",
    "bike_crashes.at[ 52 ,'Latitudine']=45.08222971421292\n",
    "bike_crashes.at[ 52 ,'Longitudine']=7.6866550840211625\n",
    "bike_crashes.at[ 53 ,'Latitudine']=45.09219891738017\n",
    "bike_crashes.at[ 53 ,'Longitudine']=7.654388668683753\n",
    "bike_crashes.at[ 54 ,'Latitudine']=45.05932559631996\n",
    "bike_crashes.at[ 54 ,'Longitudine']=7.65572575332287\n",
    "bike_crashes.at[ 55 ,'Latitudine']=45.08674286411487\n",
    "bike_crashes.at[ 55 ,'Longitudine']=7.681648799366786\n",
    "bike_crashes.at[ 56 ,'Latitudine']=45.076782958828\n",
    "bike_crashes.at[ 56 ,'Longitudine']=7.656850607303557\n",
    "bike_crashes.at[ 57 ,'Latitudine']=45.07845425178405\n",
    "bike_crashes.at[ 57 ,'Longitudine']=7.6609859379903025\n",
    "bike_crashes.at[ 107 ,'Latitudine']=45.06476705437338\n",
    "bike_crashes.at[ 107 ,'Longitudine']=7.680401166734652\n",
    "bike_crashes.at[ 277 ,'Latitudine']=45.08774215573367\n",
    "bike_crashes.at[ 277 ,'Longitudine']=7.691090275540141\n",
    "bike_crashes.at[ 281 ,'Latitudine']=45.08609848010586\n",
    "bike_crashes.at[ 281 ,'Longitudine']=7.655025413625322"
   ]
  },
  {
   "cell_type": "code",
   "execution_count": null,
   "id": "6e40b32b",
   "metadata": {},
   "outputs": [],
   "source": [
    "# rename Latitudine->latitude and Longitudine->longitude\n",
    "bike_crashes = bike_crashes.rename({'Latitudine':'latitude', 'Longitudine':'longitude'}, axis=1)"
   ]
  },
  {
   "cell_type": "code",
   "execution_count": null,
   "id": "23657ffa",
   "metadata": {},
   "outputs": [],
   "source": [
    "# export the manipulated dataset\n",
    "bike_crashes.to_csv(PATH[\"data\"] + placeid + \"/\" +'accidents_softmobility2019.csv')"
   ]
  },
  {
   "cell_type": "code",
   "execution_count": null,
   "id": "8dc276f1",
   "metadata": {},
   "outputs": [],
   "source": [
    "# add geometry to the crashes dataframe\n",
    "\n",
    "geometry = [Point(xy) for xy in zip(bike_crashes.longitude, bike_crashes.latitude)]\n",
    "gdf_crashes_softmobility = gpd.GeoDataFrame(bike_crashes, crs=\"EPSG:4326\", geometry=geometry)"
   ]
  },
  {
   "cell_type": "code",
   "execution_count": null,
   "id": "d7c2f89f",
   "metadata": {},
   "outputs": [],
   "source": [
    "# plot the crashes on Turin map\n",
    "\n",
    "ax = gdf_edges.plot(figsize=(15,8),alpha=.1, color='navy')\n",
    "\n",
    "gdf_crashes_softmobility.plot(ax=ax,figsize=(24,16),color='darkgreen',alpha=.7)"
   ]
  },
  {
   "cell_type": "code",
   "execution_count": null,
   "id": "ca95e1ea",
   "metadata": {},
   "outputs": [],
   "source": []
  }
 ],
 "metadata": {
  "kernelspec": {
   "display_name": "Python 3",
   "language": "python",
   "name": "python3"
  },
  "language_info": {
   "codemirror_mode": {
    "name": "ipython",
    "version": 3
   },
   "file_extension": ".py",
   "mimetype": "text/x-python",
   "name": "python",
   "nbconvert_exporter": "python",
   "pygments_lexer": "ipython3",
   "version": "3.8.8"
  }
 },
 "nbformat": 4,
 "nbformat_minor": 5
}
