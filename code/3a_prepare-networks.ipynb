{
 "cells": [
  {
   "cell_type": "markdown",
   "metadata": {},
   "source": [
    "# Download networks\n",
    "\n",
    "This notebook was developed by Michael Szell, you can find it here:\n",
    "\n",
    "https://github.com/mszell/bikenwgrowth\n",
    "\n",
    "Name: \"01_prepare_networks.ipynb\""
   ]
  },
  {
   "cell_type": "markdown",
   "metadata": {},
   "source": [
    "This notebook downloads bicycle and street network data sets and prepares them for analysis."
   ]
  },
  {
   "cell_type": "markdown",
   "metadata": {},
   "source": [
    "## Preliminaries"
   ]
  },
  {
   "cell_type": "markdown",
   "metadata": {},
   "source": [
    "### Parameters"
   ]
  },
  {
   "cell_type": "code",
   "execution_count": null,
   "metadata": {},
   "outputs": [],
   "source": [
    "debug = True # If True, will produce plots and/or verbose output to double-check\n",
    "%run -i \"../parameters/parameters.py\""
   ]
  },
  {
   "cell_type": "markdown",
   "metadata": {},
   "source": [
    "### Setup"
   ]
  },
  {
   "cell_type": "code",
   "execution_count": null,
   "metadata": {},
   "outputs": [],
   "source": [
    "%run -i path.py\n",
    "%run -i setup.py\n",
    "\n",
    "%load_ext watermark\n",
    "%watermark -n -v -m -g -iv"
   ]
  },
  {
   "cell_type": "markdown",
   "metadata": {},
   "source": [
    "### Functions"
   ]
  },
  {
   "cell_type": "code",
   "execution_count": null,
   "metadata": {},
   "outputs": [],
   "source": [
    "%run -i functions.py"
   ]
  },
  {
   "cell_type": "markdown",
   "metadata": {},
   "source": [
    "## Download and wrangle data"
   ]
  },
  {
   "cell_type": "markdown",
   "metadata": {},
   "source": [
    "### Networks"
   ]
  },
  {
   "cell_type": "code",
   "execution_count": null,
   "metadata": {
    "scrolled": true
   },
   "outputs": [],
   "source": [
    "for placeid, placeinfo in tqdm(cities.items(), desc = \"Cities\"):\n",
    "    if placeinfo[\"nominatimstring\"] != '':\n",
    "        location = ox.geocoder.geocode_to_gdf(placeinfo[\"nominatimstring\"])\n",
    "        location = fill_holes(extract_relevant_polygon(placeid, shapely.geometry.shape(location['geometry'][0])))\n",
    "        if debug: # Draw location polygons and their holes\n",
    "            try:\n",
    "                color = cm.rainbow(np.linspace(0,1,len(location)))\n",
    "                for poly,c in zip(location, color):\n",
    "                    plt.plot(*poly.exterior.xy, c = c)\n",
    "                    for intr in poly.interiors:\n",
    "                        plt.plot(*intr.xy, c = \"red\")\n",
    "            except:\n",
    "                plt.plot(*location.exterior.xy)\n",
    "            plt.show()\n",
    "    else:\n",
    "        # https://gis.stackexchange.com/questions/113799/how-to-read-a-shapefile-in-python\n",
    "        shp = fiona.open(PATH[\"data\"] + placeid + \"/\" + placeid + \".shp\")\n",
    "        first = next(iter(shp))\n",
    "        location = shapely.geometry.shape(first['geometry'])\n",
    "    \n",
    "    Gs = {}\n",
    "    for parameterid, parameterinfo in tqdm(osmnxparameters.items(), desc = \"Networks\", leave = False):\n",
    "        for i in range(0,10): # retry\n",
    "            try:\n",
    "                Gs[parameterid] = ox.graph_from_polygon(location, \n",
    "                                       network_type = parameterinfo['network_type'],\n",
    "                                       custom_filter = (parameterinfo['custom_filter']),\n",
    "                                       retain_all = parameterinfo['retain_all'],\n",
    "                                       simplify = False)\n",
    "            except ValueError:\n",
    "                Gs[parameterid] = nx.empty_graph(create_using = nx.MultiDiGraph)\n",
    "                print(placeid + \": No OSM data for graph \" + parameterid + \". Created empty graph.\")\n",
    "                break\n",
    "            except ConnectionError or UnboundLocalError:\n",
    "                print(\"ConnectionError or UnboundLocalError. Retrying.\")\n",
    "                continue\n",
    "            except:\n",
    "                print(\"Other error. Retrying.\")\n",
    "                continue\n",
    "            break\n",
    "        if parameterinfo['export']: ox_to_csv(Gs[parameterid], PATH[\"data\"] + placeid + \"/\", placeid, parameterid)\n",
    "\n",
    "    # Compose special cases biketrack, bikeable, biketrackcarall\n",
    "    parameterid = 'biketrack'\n",
    "    Gs[parameterid] = nx.compose_all([Gs['bike_cyclewaylefttrack'], Gs['bike_cyclewaytrack'], Gs['bike_highwaycycleway'], Gs['bike_bicycleroad'], Gs['bike_cyclewayrighttrack'], Gs['bike_designatedpath'], Gs['bike_cyclestreet']])\n",
    "    ox_to_csv(Gs[parameterid], PATH[\"data\"] + placeid + \"/\", placeid, parameterid)\n",
    "    \n",
    "    parameterid = 'bikeable'\n",
    "    Gs[parameterid] = nx.compose_all([Gs['biketrack'], Gs['car30'], Gs['bike_livingstreet']]) \n",
    "    ox_to_csv(Gs[parameterid], PATH[\"data\"] + placeid + \"/\", placeid, parameterid)\n",
    "    \n",
    "    parameterid = 'biketrackcarall'\n",
    "    Gs[parameterid] = nx.compose(Gs['biketrack'], Gs['carall']) # Order is important\n",
    "    ox_to_csv(Gs[parameterid], PATH[\"data\"] + placeid + \"/\", placeid, parameterid)\n",
    "        \n",
    "    for parameterid in networktypes[:-2]:\n",
    "        #G_temp = nx.MultiDiGraph(ox.utils_graph.get_digraph(ox.simplify_graph(Gs[parameterid]))) # This doesnt work - cant get rid of multiedges\n",
    "        ox_to_csv(ox.simplify_graph(Gs[parameterid]), PATH[\"data\"] + placeid + \"/\", placeid, parameterid, \"_simplified\")"
   ]
  },
  {
   "cell_type": "code",
   "execution_count": null,
   "metadata": {},
   "outputs": [],
   "source": [
    "# Compress all data files (will not do anything if files were compressed already)\n",
    "for folder, subfolders, files in os.walk(PATH[\"data\"]):\n",
    "    for file in files:\n",
    "        if file.endswith('es.csv'):\n",
    "            compress_file(folder + \"/\", file.split(\".\")[0])"
   ]
  },
  {
   "cell_type": "code",
   "execution_count": null,
   "metadata": {},
   "outputs": [],
   "source": [
    "Audio(sound_file, autoplay=True)"
   ]
  },
  {
   "cell_type": "code",
   "execution_count": null,
   "metadata": {},
   "outputs": [],
   "source": []
  }
 ],
 "metadata": {
  "kernelspec": {
   "display_name": "OSMNX",
   "language": "python",
   "name": "osmnx"
  },
  "language_info": {
   "codemirror_mode": {
    "name": "ipython",
    "version": 3
   },
   "file_extension": ".py",
   "mimetype": "text/x-python",
   "name": "python",
   "nbconvert_exporter": "python",
   "pygments_lexer": "ipython3",
   "version": "3.9.4"
  }
 },
 "nbformat": 4,
 "nbformat_minor": 2
}
