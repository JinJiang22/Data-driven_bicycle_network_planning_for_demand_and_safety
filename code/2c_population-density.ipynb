{
 "cells": [
  {
   "cell_type": "markdown",
   "id": "729683e0",
   "metadata": {},
   "source": [
    "# Population density data\n",
    "I found the shapefiles of the neighborhood of Turin here:\n",
    "\n",
    "http://geoportale.comune.torino.it/geodati/zip/zonestat_popolazione_residente_geo.zip\n",
    "\n",
    "\n",
    "I found the data on number of residents by neighborhood of 2020 here:\n",
    "\n",
    "http://aperto.comune.torino.it/en/dataset/popolazione-per-sesso-e-zona-statistica-2020\n",
    "\n",
    "In this notebook I combine in one file the geometry of the first file with the population data of the second one. From these data I also compute the density of population by neighborhood."
   ]
  },
  {
   "cell_type": "markdown",
   "id": "de160f56",
   "metadata": {},
   "source": [
    "## Setup"
   ]
  },
  {
   "cell_type": "code",
   "execution_count": null,
   "id": "cb2f482a",
   "metadata": {},
   "outputs": [],
   "source": [
    "%run -i path.py\n",
    "%run -i setup.py"
   ]
  },
  {
   "cell_type": "code",
   "execution_count": null,
   "id": "f53c696d",
   "metadata": {},
   "outputs": [],
   "source": [
    "# gdf of the edges of Turin street network\n",
    "gdf_edges = gpd.read_file(PATH['data']+'graph_shapefile/Turin/edges.shp')"
   ]
  },
  {
   "cell_type": "code",
   "execution_count": null,
   "id": "ba941c3e",
   "metadata": {},
   "outputs": [],
   "source": [
    "# pop data (zone statistiche) 2020\n",
    "\n",
    "# load the shapefile\n",
    "pop_shp = gpd.read_file(PATH[\"data\"]+'zonestat_popolazione_residente_2007_geo.shp')\n",
    "\n",
    "# load the population data\n",
    "pop_csv = pd.read_csv(PATH[\"data\"]+'Torino_pop_zone-statistiche.csv')"
   ]
  },
  {
   "cell_type": "code",
   "execution_count": null,
   "id": "ecdc9a2f",
   "metadata": {},
   "outputs": [],
   "source": [
    "pop_shp.crs"
   ]
  },
  {
   "cell_type": "code",
   "execution_count": null,
   "id": "5556cdb0",
   "metadata": {},
   "outputs": [],
   "source": [
    "pop_shp = pop_shp.to_crs(4326)"
   ]
  },
  {
   "cell_type": "code",
   "execution_count": null,
   "id": "b449a6a4",
   "metadata": {},
   "outputs": [],
   "source": [
    "per_Area = gpd.read_file(PATH[\"data\"]+'zonestat_popolazione_residente_2007_geo.shp')\n",
    "\n",
    "per_Area.crs"
   ]
  },
  {
   "cell_type": "code",
   "execution_count": null,
   "id": "c9f2220a",
   "metadata": {},
   "outputs": [],
   "source": [
    "# we need to keep crs= EPSG:3003 to calculate the area of the polygons\n",
    "per_Area = per_Area.sort_values(by='ZONA_STATI')"
   ]
  },
  {
   "cell_type": "code",
   "execution_count": null,
   "id": "91c8ec8c",
   "metadata": {},
   "outputs": [],
   "source": [
    "pop_shp = pop_shp.sort_values(by='ZONA_STATI')\n",
    "pop_shp"
   ]
  },
  {
   "cell_type": "code",
   "execution_count": null,
   "id": "736f6dd6",
   "metadata": {},
   "outputs": [],
   "source": [
    "# calculate population density 2020 and add it to 'pop_shp'\n",
    "\n",
    "dens_f = []\n",
    "dens_m = []\n",
    "dens_t = []\n",
    "for i in range(len(pop_csv)):\n",
    "    dens_f.append(pop_csv['Femmine'].iloc[i]/(per_Area['geometry'].iloc[i].area/1e6))\n",
    "    dens_m.append(pop_csv['Maschi'].iloc[i]/(per_Area['geometry'].iloc[i].area/1e6))\n",
    "    dens_t.append((pop_csv['Maschi'].iloc[i]+pop_csv['Femmine'].iloc[i])/(per_Area['geometry'].iloc[i].area/1e6))\n",
    "\n",
    "pop_shp['dens_fpop'] = dens_f\n",
    "pop_shp['dens_mpop'] = dens_m\n",
    "pop_shp['dens_totpop'] = dens_t\n",
    "\n",
    "pop_shp"
   ]
  },
  {
   "cell_type": "code",
   "execution_count": null,
   "id": "83ecfc66",
   "metadata": {},
   "outputs": [],
   "source": [
    "# create a column in the pop_csv df with the number that identify the 'zona statistica'\n",
    "\n",
    "n_zonastat = []\n",
    "\n",
    "for ii in range(len(pop_csv)):\n",
    "    zona = pop_csv['Zona_Statistica'].iloc[ii]\n",
    "    for i in range(len(zona)):\n",
    "        if zona[i] == ' ':\n",
    "            n_zonastat.append(zona[:i])\n",
    "            break\n",
    "\n",
    "pop_csv['ZONASTAT'] = n_zonastat"
   ]
  },
  {
   "cell_type": "code",
   "execution_count": null,
   "id": "a95a9b9d",
   "metadata": {},
   "outputs": [],
   "source": [
    "# remove the number of residents of 2007 (we keep the geometry from this file and the number of residents from pop_csv)\n",
    "pop_shp = pop_shp.drop(['NMASCHI','NFEMMINE','TOTALE','ANNO'],axis=1)"
   ]
  },
  {
   "cell_type": "code",
   "execution_count": null,
   "id": "b1e076b3",
   "metadata": {},
   "outputs": [],
   "source": [
    "# add the number of resident of 2020 in pop_shp\n",
    "\n",
    "pop = []\n",
    "popF = []\n",
    "popM = []\n",
    "\n",
    "\n",
    "for i in range(len(pop_shp)):\n",
    "    pop.append(pop_csv.iloc[i]['Femmine']+pop_csv.iloc[i]['Maschi'])\n",
    "    popF.append(pop_csv.iloc[i]['Femmine'])\n",
    "    popM.append(pop_csv.iloc[i]['Maschi'])\n",
    "    \n",
    "pop_shp['tot_pop'] = pop\n",
    "pop_shp['female_pop'] = popF\n",
    "pop_shp['male_pop'] = popM"
   ]
  },
  {
   "cell_type": "code",
   "execution_count": null,
   "id": "e22e8b9a",
   "metadata": {},
   "outputs": [],
   "source": [
    "# plot the density on the map\n",
    "\n",
    "fig, axes = plt.subplots(nrows=1,ncols=1, figsize=(25,25), sharex=True, sharey=True)\n",
    "\n",
    "matplotlib.rc('xtick', labelsize=20) \n",
    "matplotlib.rc('ytick', labelsize=20)\n",
    "\n",
    "divider = make_axes_locatable(axes)\n",
    "\n",
    "axes.set_title('Residents in Turin',fontsize=40)\n",
    "        \n",
    "cax = divider.append_axes('right', size='2%', pad=0.6)\n",
    "cax.set_xlabel('Pop. density',labelpad=20,size='xx-large')\n",
    "axes = pop_shp.plot(column='dens_totpop',cmap='OrRd', legend=True,ax=axes, cax=cax, alpha = .9)\n",
    "\n",
    "gdf_edges.plot(ax = axes,alpha=.2, color='black')"
   ]
  },
  {
   "cell_type": "code",
   "execution_count": null,
   "id": "f2feff24",
   "metadata": {},
   "outputs": [],
   "source": [
    "pop_shp.to_file(driver = 'ESRI Shapefile', filename = PATH[\"data\"]+ placeid + \"/\"+'popTorino2020')"
   ]
  },
  {
   "cell_type": "code",
   "execution_count": null,
   "id": "9b7321c3",
   "metadata": {},
   "outputs": [],
   "source": []
  }
 ],
 "metadata": {
  "kernelspec": {
   "display_name": "OSMNX",
   "language": "python",
   "name": "osmnx"
  },
  "language_info": {
   "codemirror_mode": {
    "name": "ipython",
    "version": 3
   },
   "file_extension": ".py",
   "mimetype": "text/x-python",
   "name": "python",
   "nbconvert_exporter": "python",
   "pygments_lexer": "ipython3",
   "version": "3.9.4"
  }
 },
 "nbformat": 4,
 "nbformat_minor": 5
}
