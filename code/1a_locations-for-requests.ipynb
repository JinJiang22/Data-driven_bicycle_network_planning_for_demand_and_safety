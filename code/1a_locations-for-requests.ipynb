{
 "cells": [
  {
   "cell_type": "markdown",
   "id": "4c9fe475",
   "metadata": {},
   "source": [
    "# Create location for Bird API requests"
   ]
  },
  {
   "cell_type": "markdown",
   "id": "ea1819e8",
   "metadata": {},
   "source": [
    "## Setup"
   ]
  },
  {
   "cell_type": "code",
   "execution_count": null,
   "id": "68f2ef73",
   "metadata": {},
   "outputs": [],
   "source": [
    "%run -i path.py\n",
    "%run -i setup.py"
   ]
  },
  {
   "cell_type": "markdown",
   "id": "828eb9aa",
   "metadata": {},
   "source": [
    "## Functions"
   ]
  },
  {
   "cell_type": "code",
   "execution_count": null,
   "id": "dcd9938e",
   "metadata": {},
   "outputs": [],
   "source": [
    "%run -i functions.py"
   ]
  },
  {
   "cell_type": "code",
   "execution_count": null,
   "id": "12ca582d",
   "metadata": {},
   "outputs": [],
   "source": [
    "# Download Turin networks\n",
    "# Do not run this cell if you already downloaded the networks\n",
    "G = ox.graph_from_place('Turin, Piemonte, Italy', network_type='all')"
   ]
  },
  {
   "cell_type": "code",
   "execution_count": null,
   "id": "bc07180d",
   "metadata": {},
   "outputs": [],
   "source": [
    "# Save to disk\n",
    "# Do not run this cell if you already downloaded the networks\n",
    "ox.save_graph_shapefile(G)"
   ]
  },
  {
   "cell_type": "code",
   "execution_count": null,
   "id": "b88b5c45",
   "metadata": {},
   "outputs": [],
   "source": [
    "# gdf of the edges of Turin street network\n",
    "gdf_edges = gpd.read_file(PATH['data']+'graph_shapefile/Turin/edges.shp')"
   ]
  },
  {
   "cell_type": "code",
   "execution_count": null,
   "id": "f77d120f",
   "metadata": {},
   "outputs": [],
   "source": [
    "gdf_edges.plot(figsize=(20,10),alpha=0.2)"
   ]
  },
  {
   "cell_type": "markdown",
   "id": "8b4befe3",
   "metadata": {},
   "source": [
    "## Create a grid for the city center"
   ]
  },
  {
   "cell_type": "code",
   "execution_count": null,
   "id": "8d737d80",
   "metadata": {},
   "outputs": [],
   "source": [
    "# total area of the grid\n",
    "ymax=45.10\n",
    "ymin=45.03\n",
    "xmin=7.62\n",
    "xmax=7.72\n",
    "\n",
    "\n",
    "# how many cells across and down\n",
    "n_cells = 10\n",
    "\n",
    "cell = create_grid(xmin,xmax,ymin,ymax,n_cells)"
   ]
  },
  {
   "cell_type": "code",
   "execution_count": null,
   "id": "26c3d9c3",
   "metadata": {},
   "outputs": [],
   "source": [
    "# this list contains the indices of peripheral boxes that we will remove\n",
    "suburbs = [0,1,2,6,7,56,57,64,65,66,72,73,74,80,81,82,87]\n",
    "\n",
    "# we will use the centroids of the boxes as coordinates for the query\n",
    "# in the next cells we remove the peripheral points\n",
    "\n",
    "points = cell.copy()\n",
    "\n",
    "points['geometry'] = points['geometry'].centroid\n",
    "\n",
    "points=points.drop(suburbs,axis=0)"
   ]
  },
  {
   "cell_type": "code",
   "execution_count": null,
   "id": "2fc49873",
   "metadata": {},
   "outputs": [],
   "source": [
    "print(\"Number of queries: \",len(points))\n",
    "print(\"Side of the boxes: \",np.round(distance_meters(points['geometry'].loc[3], points['geometry'].loc[4])[1]),' m')"
   ]
  },
  {
   "cell_type": "code",
   "execution_count": null,
   "id": "e1a02a8a",
   "metadata": {},
   "outputs": [],
   "source": [
    "fig, ax = plt.subplots(nrows=1,ncols=1,figsize=(20,10),sharex=True, sharey=True)\n",
    "\n",
    "ax = cell.plot(ax=ax,facecolor='none',edgecolor='black')\n",
    "ax = gdf_edges.plot(ax = ax,alpha=0.2)\n",
    "points.plot(ax=ax,figsize=(20,10), color='green')"
   ]
  },
  {
   "cell_type": "markdown",
   "id": "ccd3ee09",
   "metadata": {},
   "source": [
    "## Create the .csv file with the boxe's centroids for the requests"
   ]
  },
  {
   "cell_type": "code",
   "execution_count": null,
   "id": "bf3958ca",
   "metadata": {},
   "outputs": [],
   "source": [
    "# centroids\n",
    "\n",
    "lat = points['geometry'].y\n",
    "long = points['geometry'].x\n",
    "\n",
    "lat_list = []\n",
    "long_list = []\n",
    "for i in range(len(lat)):\n",
    "    lat_list.append(lat.iloc[i])\n",
    "    long_list.append(long.iloc[i])\n",
    "    \n",
    "a = pd.DataFrame({'latitude':lat_list})\n",
    "b = pd.DataFrame({'longitude':long_list})\n",
    "\n",
    "c = pd.concat([a,b],axis=1)\n",
    "\n",
    "# save the coordinates of these centroids\n",
    "# we will use them to make the requests\n",
    "c.to_csv(PATH['data']+ placeid + \"/\"+'request_location_centroids_turin.csv')"
   ]
  },
  {
   "cell_type": "code",
   "execution_count": null,
   "id": "760a6927",
   "metadata": {},
   "outputs": [],
   "source": []
  }
 ],
 "metadata": {
  "kernelspec": {
   "display_name": "OSMNX",
   "language": "python",
   "name": "osmnx"
  },
  "language_info": {
   "codemirror_mode": {
    "name": "ipython",
    "version": 3
   },
   "file_extension": ".py",
   "mimetype": "text/x-python",
   "name": "python",
   "nbconvert_exporter": "python",
   "pygments_lexer": "ipython3",
   "version": "3.9.4"
  }
 },
 "nbformat": 4,
 "nbformat_minor": 5
}
