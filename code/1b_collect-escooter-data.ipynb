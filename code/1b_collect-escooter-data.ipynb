{
 "cells": [
  {
   "cell_type": "markdown",
   "id": "4322dca1",
   "metadata": {},
   "source": [
    "# Collect Bird data\n",
    "\n",
    "This notebook is based on the instructions available here:\n",
    "https://github.com/ubahnverleih/WoBike/blob/master/Bird.md"
   ]
  },
  {
   "cell_type": "markdown",
   "id": "7c4b07e4",
   "metadata": {},
   "source": [
    "## Setup"
   ]
  },
  {
   "cell_type": "code",
   "execution_count": null,
   "id": "e48c7ef8",
   "metadata": {},
   "outputs": [],
   "source": [
    "%run -i path.py\n",
    "%run -i setup.py"
   ]
  },
  {
   "cell_type": "markdown",
   "id": "7f2c9138",
   "metadata": {},
   "source": [
    "## Functions"
   ]
  },
  {
   "cell_type": "code",
   "execution_count": null,
   "id": "3dfd928e",
   "metadata": {},
   "outputs": [],
   "source": [
    "%run -i functions.py"
   ]
  },
  {
   "cell_type": "code",
   "execution_count": null,
   "id": "65fd2747",
   "metadata": {},
   "outputs": [],
   "source": [
    "# get auth Token\n",
    "# After running this cell, check your email to get the token\n",
    "\n",
    "body = {\"email\": \"your@email.com\"}\n",
    "\n",
    "headers = {\n",
    "    'User-Agent': 'Bird/4.119.0(co.bird.Ride; build:3; iOS 14.3.0) Alamofire/5.2.2',\n",
    "    'Device-Id': 'BC5BDA72-12A2-5DF4-BD11-92ACF8FFC86D', # is a random 16-bit GUID\n",
    "    'Platform': 'ios',\n",
    "    'App-Version': '4.119.0',\n",
    "    'Content-Type': 'application/json'\n",
    "    }\n",
    "\n",
    "POST = 'https://api-auth.prod.birdapp.com/api/v1/auth/email'\n",
    "\n",
    "r = requests.post(url=POST, headers=headers,json=body)\n",
    "\n",
    "r.status_code"
   ]
  },
  {
   "cell_type": "code",
   "execution_count": null,
   "id": "1f47fabe",
   "metadata": {},
   "outputs": [],
   "source": [
    "# get 'access' and 'refresh' codes\n",
    "\n",
    "headers = {\n",
    "    'User-Agent': 'Bird/4.119.0(co.bird.Ride; build:3; iOS 14.3.0) Alamofire/5.2.2',\n",
    "    'Device-Id': 'BC5BDA72-12A2-5DF4-BD11-92ACF8FFC86D', # is a random 16-bit GUID\n",
    "    'Platform': 'ios',\n",
    "    'App-Version': '4.119.0',\n",
    "    'Content-Type': 'application/json'\n",
    "    }\n",
    "\n",
    "tkn = {\"token\": \"YOUR_TOKEN\"} # replace \"YOUR_TOKEN\" with the token you received in the email\n",
    "\n",
    "POST = \"https://api-auth.prod.birdapp.com/api/v1/auth/magic-link/use\"\n",
    "\n",
    "r = requests.post(url=POST, headers=headers,json=tkn)\n",
    "\n",
    "r.status_code"
   ]
  },
  {
   "cell_type": "code",
   "execution_count": null,
   "id": "9d330557",
   "metadata": {},
   "outputs": [],
   "source": [
    "## access and refresh token\n",
    "j = r.json()"
   ]
  },
  {
   "cell_type": "markdown",
   "id": "55db6191",
   "metadata": {},
   "source": [
    "## Refresh Auth Token\n",
    "\n",
    "By default bird tokens expire after one day. They can be easily refreshed without having to get another magic link."
   ]
  },
  {
   "cell_type": "code",
   "execution_count": null,
   "id": "3f32f19a",
   "metadata": {},
   "outputs": [],
   "source": [
    "jj=refresh_token(j).json()"
   ]
  },
  {
   "cell_type": "markdown",
   "id": "9a74ae1b",
   "metadata": {},
   "source": [
    "## Load the list of coordinates for the requests"
   ]
  },
  {
   "cell_type": "code",
   "execution_count": null,
   "id": "7bd74874",
   "metadata": {},
   "outputs": [],
   "source": [
    "coords = pd.read_csv(PATH['data']+ placeid + \"/\"+'request_location_centroids_turin.csv')\n",
    "coords = coords.drop(['Unnamed: 0'],axis=1)"
   ]
  },
  {
   "cell_type": "code",
   "execution_count": null,
   "id": "3046b712",
   "metadata": {},
   "outputs": [],
   "source": [
    "# create a list of dict: each dict contains the coordinates for a request\n",
    "\n",
    "coords_list = []\n",
    "\n",
    "for i in range(len(coords)):\n",
    "    \n",
    "    coord_dict = {'latitude': coords.iloc[i]['latitude'], 'longitude': coords.iloc[i]['longitude']}\n",
    "    \n",
    "    coords_list.append(coord_dict)"
   ]
  },
  {
   "cell_type": "markdown",
   "id": "86d6b8c4",
   "metadata": {},
   "source": [
    "## Collect e-scooter position data\n",
    "\n",
    "I used the tutorial:\n",
    "https://www.dataquest.io/blog/python-api-tutorial/"
   ]
  },
  {
   "cell_type": "code",
   "execution_count": null,
   "id": "8f3749b2",
   "metadata": {},
   "outputs": [],
   "source": [
    "responses = []\n",
    "\n",
    "start_time = time.time()\n",
    "\n",
    "# set the radius for the requests\n",
    "R = 500 # (seems to be a dummy variable)\n",
    "\n",
    "# set the duration (in seconds) of data collecting\n",
    "duration = 13428000\n",
    "\n",
    "end_time = start_time + duration\n",
    "\n",
    "start_day = '2021-05-26'\n",
    "end_day = '2021-10-28'\n",
    "\n",
    "request_counter = 0 # if you re-start this cell, update this number to avoid overwriting the data\n",
    "\n",
    "print('Data collection started at: ', time.ctime(start_time))\n",
    "\n",
    "print('Data collection will end at: ', time.ctime(end_time))\n",
    "\n",
    "# make the requests\n",
    "while time.time() < end_time:\n",
    "    dfs = []\n",
    "    \n",
    "    for i in range(len(coords_list)):\n",
    "        # make the API call\n",
    "        response = make_a_request(coords_list[i]['latitude'],coords_list[i]['longitude'],R,jj)\n",
    "        \n",
    "        # if we get an error, print the response and halt the loop\n",
    "        if response.status_code != 200:\n",
    "            print(response.text)\n",
    "            jj = refresh_token(jj).json()\n",
    "            response = make_a_request(coords_list[i]['latitude'],coords_list[i]['longitude'],R,jj)\n",
    "            \n",
    "        while response.status_code != 200:\n",
    "            \n",
    "            print('Status code = ', response.status_code)\n",
    "            \n",
    "            print(\"Wait 20 minutes than try again...\")\n",
    "            for i in range(20):\n",
    "                time.sleep(60)\n",
    "                print(20 - i - 1, \" minutes to next try.\")\n",
    "                clear_output(wait=True)\n",
    "            \n",
    "            response = make_a_request(coords_list[i]['latitude'],coords_list[i]['longitude'],R,jj)\n",
    "        \n",
    "        # create a df with the data of the request\n",
    "        r_json = response.json()\n",
    "        r_json_bike = r_json['birds']\n",
    "        r_df = pd.DataFrame(r_json_bike)\n",
    "        \n",
    "        # add to the df WHEN was made the request\n",
    "        t = time.time()        \n",
    "        r_df['Time'] = t\n",
    "        \n",
    "        # add to the df WHERE was made the request\n",
    "        r_df['Request Latitude'] = coords_list[i]['latitude']\n",
    "        r_df['Request Longitude'] = coords_list[i]['longitude']\n",
    "        \n",
    "        # rearrange the latitude and longitude data\n",
    "        lats = []\n",
    "        lons = []\n",
    "\n",
    "        for k in range(len(r_df)):\n",
    "            temp_df = pd.DataFrame(r_json['birds'][k])\n",
    "            lats.append(temp_df.iloc[0]['location'])\n",
    "            lons.append(temp_df.iloc[1]['location'])\n",
    "    \n",
    "        r_df['latitude'] = lats\n",
    "        r_df['longitude'] = lons\n",
    "        \n",
    "        # delete the 'location' column\n",
    "        r_df=r_df.drop(['location'], axis=1)\n",
    "        \n",
    "        #sort the columns of the df\n",
    "        r_df=r_df[['id','latitude','longitude','code','model','vehicle_class','captive','partner_id','battery_level','estimated_range','area_key','nest_id','bounty_id','Time','Request Latitude','Request Longitude']]\n",
    "        \n",
    "        # append df to a list\n",
    "        dfs.append(r_df)\n",
    "        \n",
    "        # print some output so we can see the status\n",
    "        text_file = open(\"Updates.txt\", \"w\")\n",
    "        n = text_file.write('# '+str(i)+' - Time of the last request: ' + str(time.ctime(time.time())) + '-- Request counter: ' + str(request_counter))\n",
    "        text_file.close()\n",
    "        \n",
    "        # append response to a list\n",
    "        responses.append(response)\n",
    "        \n",
    "        # wait 25 seconds to make the following request, so you don't get banned\n",
    "        time.sleep(25)\n",
    "    \n",
    "    # create a single df for each group of requests\n",
    "    if len(dfs) == len(coords_list):\n",
    "        df = pd.concat(dfs)\n",
    "    \n",
    "        # export the df as a .csv file\n",
    "        df.to_csv(PATH['data_api']+ placeid + \"/\"+'TimeSlot'+str(request_counter)+'_Start'+str(start_day)+'_End'+str(end_day)+'.csv')\n",
    "    \n",
    "        request_counter = request_counter + 1\n",
    "    \n",
    "    else:\n",
    "        # print an output to inform you that there is some problem\n",
    "        text_file = open(\"Updates.txt\", \"w\")\n",
    "        n = text_file.write('# '+str(i)+' - Time of the last request: ' + str(time.ctime(time.time()))+ 'IS NOT WORKING - current TimeSlot: '+str(request_counter))\n",
    "        text_file.close()\n",
    "    \n",
    "    #between each group of requests, sleep 20 min \n",
    "    time.sleep(1200)"
   ]
  },
  {
   "cell_type": "code",
   "execution_count": null,
   "id": "bf66a459",
   "metadata": {},
   "outputs": [],
   "source": []
  }
 ],
 "metadata": {
  "kernelspec": {
   "display_name": "OSMNX",
   "language": "python",
   "name": "osmnx"
  },
  "language_info": {
   "codemirror_mode": {
    "name": "ipython",
    "version": 3
   },
   "file_extension": ".py",
   "mimetype": "text/x-python",
   "name": "python",
   "nbconvert_exporter": "python",
   "pygments_lexer": "ipython3",
   "version": "3.9.4"
  }
 },
 "nbformat": 4,
 "nbformat_minor": 5
}
